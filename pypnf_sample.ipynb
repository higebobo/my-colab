{
  "cells": [
    {
      "cell_type": "markdown",
      "metadata": {
        "id": "view-in-github",
        "colab_type": "text"
      },
      "source": [
        "<a href=\"https://colab.research.google.com/github/higebobo/my-colab/blob/main/pypnf_sample.ipynb\" target=\"_parent\"><img src=\"https://colab.research.google.com/assets/colab-badge.svg\" alt=\"Open In Colab\"/></a>"
      ]
    },
    {
      "cell_type": "markdown",
      "metadata": {
        "id": "hXgKOO_CSDto"
      },
      "source": [
        "## pypfによるポイントアンドフィギュア算出\n",
        "\n",
        "[pviglucci/pypf](https://github.com/pviglucci/pypf)"
      ]
    },
    {
      "cell_type": "markdown",
      "metadata": {
        "id": "TzyiQHzmSmd3"
      },
      "source": [
        "## インストールセクション"
      ]
    },
    {
      "cell_type": "code",
      "execution_count": null,
      "metadata": {
        "colab": {
          "base_uri": "https://localhost:8080/"
        },
        "id": "C_991epnSpfg",
        "outputId": "7574cb1a-4ac7-4ae7-9269-badb2c9a8567"
      },
      "outputs": [
        {
          "output_type": "stream",
          "name": "stdout",
          "text": [
            "Collecting requests_cache\n",
            "  Downloading requests_cache-0.9.4-py3-none-any.whl (47 kB)\n",
            "\u001b[?25l\r\u001b[K     |███████                         | 10 kB 20.1 MB/s eta 0:00:01\r\u001b[K     |█████████████▉                  | 20 kB 12.9 MB/s eta 0:00:01\r\u001b[K     |████████████████████▉           | 30 kB 9.1 MB/s eta 0:00:01\r\u001b[K     |███████████████████████████▊    | 40 kB 8.2 MB/s eta 0:00:01\r\u001b[K     |████████████████████████████████| 47 kB 2.0 MB/s \n",
            "\u001b[?25hCollecting pypnf\n",
            "  Downloading pypnf-0.0.5-py3-none-any.whl (38 kB)\n",
            "Requirement already satisfied: attrs<22.0,>=21.2 in /usr/local/lib/python3.7/dist-packages (from requests_cache) (21.4.0)\n",
            "Collecting url-normalize<2.0,>=1.4\n",
            "  Downloading url_normalize-1.4.3-py2.py3-none-any.whl (6.8 kB)\n",
            "Collecting urllib3<2.0.0,>=1.25.5\n",
            "  Downloading urllib3-1.26.9-py2.py3-none-any.whl (138 kB)\n",
            "\u001b[K     |████████████████████████████████| 138 kB 9.8 MB/s \n",
            "\u001b[?25hRequirement already satisfied: appdirs<2.0.0,>=1.4.4 in /usr/local/lib/python3.7/dist-packages (from requests_cache) (1.4.4)\n",
            "Requirement already satisfied: requests<3.0,>=2.22 in /usr/local/lib/python3.7/dist-packages (from requests_cache) (2.23.0)\n",
            "Collecting cattrs<2.0,>=1.8\n",
            "  Downloading cattrs-1.10.0-py3-none-any.whl (29 kB)\n",
            "Requirement already satisfied: typing_extensions in /usr/local/lib/python3.7/dist-packages (from cattrs<2.0,>=1.8->requests_cache) (4.2.0)\n",
            "Requirement already satisfied: chardet<4,>=3.0.2 in /usr/local/lib/python3.7/dist-packages (from requests<3.0,>=2.22->requests_cache) (3.0.4)\n",
            "Collecting urllib3<2.0.0,>=1.25.5\n",
            "  Downloading urllib3-1.25.11-py2.py3-none-any.whl (127 kB)\n",
            "\u001b[K     |████████████████████████████████| 127 kB 46.5 MB/s \n",
            "\u001b[?25hRequirement already satisfied: certifi>=2017.4.17 in /usr/local/lib/python3.7/dist-packages (from requests<3.0,>=2.22->requests_cache) (2021.10.8)\n",
            "Requirement already satisfied: idna<3,>=2.5 in /usr/local/lib/python3.7/dist-packages (from requests<3.0,>=2.22->requests_cache) (2.10)\n",
            "Requirement already satisfied: six in /usr/local/lib/python3.7/dist-packages (from url-normalize<2.0,>=1.4->requests_cache) (1.15.0)\n",
            "Requirement already satisfied: tabulate>=0.8.9 in /usr/local/lib/python3.7/dist-packages (from pypnf) (0.8.9)\n",
            "Requirement already satisfied: numpy>=1.20 in /usr/local/lib/python3.7/dist-packages (from pypnf) (1.21.6)\n",
            "Installing collected packages: urllib3, url-normalize, cattrs, requests-cache, pypnf\n",
            "  Attempting uninstall: urllib3\n",
            "    Found existing installation: urllib3 1.24.3\n",
            "    Uninstalling urllib3-1.24.3:\n",
            "      Successfully uninstalled urllib3-1.24.3\n",
            "\u001b[31mERROR: pip's dependency resolver does not currently take into account all the packages that are installed. This behaviour is the source of the following dependency conflicts.\n",
            "datascience 0.10.6 requires folium==0.2.1, but you have folium 0.8.3 which is incompatible.\u001b[0m\n",
            "Successfully installed cattrs-1.10.0 pypnf-0.0.5 requests-cache-0.9.4 url-normalize-1.4.3 urllib3-1.25.11\n"
          ]
        }
      ],
      "source": [
        "!pip install requests_cache pypnf"
      ]
    },
    {
      "cell_type": "markdown",
      "metadata": {
        "id": "GLvAbjAoSe2H"
      },
      "source": [
        "## インポートセクション"
      ]
    },
    {
      "cell_type": "code",
      "execution_count": null,
      "metadata": {
        "id": "tZ0W1AUaSiNU"
      },
      "outputs": [],
      "source": [
        "import datetime\n",
        "import os\n",
        "\n",
        "import pandas_datareader.data as pdr\n",
        "from pypnf import PointFigureChart\n",
        "from requests_cache import CachedSession\n",
        "from termcolor import colored as cl"
      ]
    },
    {
      "cell_type": "markdown",
      "metadata": {
        "id": "gssjFvvXSREh"
      },
      "source": [
        "## 定数定義"
      ]
    },
    {
      "cell_type": "markdown",
      "metadata": {
        "id": "-WtQFq7WeOnq"
      },
      "source": [
        "### 対象のシンボル(銘柄・指数・通貨ペア)"
      ]
    },
    {
      "cell_type": "code",
      "execution_count": null,
      "metadata": {
        "id": "qqUKO3X9SDYo"
      },
      "outputs": [],
      "source": [
        "symbol_map = {\n",
        "    'AMZN': {'name': 'Amazon.com Inc.', 'price_range': 50},\n",
        "    'GOOGL': {'name': 'Alphabet Inc.', 'price_range': 50},\n",
        "    '7203.T': {'name': 'トヨタ自動車'},\n",
        "    '^N225': {'name': 'Nikkei225', 'price_range': 100},\n",
        "    'JPY=X': {'name': 'USD/JPY', 'price_range': 0.1},\n",
        "}"
      ]
    },
    {
      "cell_type": "markdown",
      "metadata": {
        "id": "5ww5tu8PeZmZ"
      },
      "source": [
        "### 対象期間"
      ]
    },
    {
      "cell_type": "code",
      "execution_count": null,
      "metadata": {
        "id": "wQImBsJ6eLRK"
      },
      "outputs": [],
      "source": [
        "# 本日まで\n",
        "end = datetime.date.today()\n",
        "# 半年前まで\n",
        "# end = datetime.date.today() - datetime.timedelta(weeks=26)\n",
        "\n",
        "# 1年前から\n",
        "start = end - datetime.timedelta(weeks=26*2)"
      ]
    },
    {
      "cell_type": "markdown",
      "metadata": {
        "id": "fdP7Q6E0ejja"
      },
      "source": [
        "### ポイントアンドフィギュアパラーメータ"
      ]
    },
    {
      "cell_type": "code",
      "execution_count": null,
      "metadata": {
        "id": "Dg_4PgDFeI_l"
      },
      "outputs": [],
      "source": [
        "# 枠転換\n",
        "reversal = 3\n",
        "\n",
        "# 算出手法 (cl:終値, h/l:高値安値, hlc, ohlc, l/h)\n",
        "method = 'cl'\n",
        "\n",
        "# スケール  ('abs', 'log', 'cla')\n",
        "scaling = 'abs'\n",
        "\n",
        "# トレンドラインの描画\n",
        "show_trendline = False"
      ]
    },
    {
      "cell_type": "markdown",
      "metadata": {
        "id": "01oC8P_YZsAk"
      },
      "source": [
        "### ドライブマウントオプション\n",
        "\n",
        "Google Driveのマイドライブ直下に時系列データをcsv形式で保存するオプション\n",
        "\n"
      ]
    },
    {
      "cell_type": "code",
      "execution_count": null,
      "metadata": {
        "id": "lhdav_AkZ5qI"
      },
      "outputs": [],
      "source": [
        "SAVE_GDRIVE = False\n",
        "\n",
        "if SAVE_GDRIVE:\n",
        "    from google.colab import drive\n",
        "    drive.mount('/content/drive')\n",
        "\n",
        "    PATH = '/content/drive/MyDrive'"
      ]
    },
    {
      "cell_type": "markdown",
      "metadata": {
        "id": "pvAri7cDSU6X"
      },
      "source": [
        "## 関数"
      ]
    },
    {
      "cell_type": "code",
      "execution_count": null,
      "metadata": {
        "id": "KL2kawPYR9ob"
      },
      "outputs": [],
      "source": [
        "def get_price_range_jp(price):\n",
        "    \"\"\"\\\n",
        "    国内株用の値幅算出\n",
        "    [12\\.P&F｜岡三オンライン証券](https://www.okasan-online.co.jp/tradeinfo/technical-analytics/articles/12_PandF/)\n",
        "    \"\"\"\n",
        "    if price < 100:\n",
        "        return 2.5\n",
        "        # return 2\n",
        "    elif price < 200:\n",
        "        return 5\n",
        "    elif price < 1000:\n",
        "        return 10\n",
        "    elif price < 5000:\n",
        "        return 20\n",
        "    elif price < 10000:\n",
        "        return 1000\n",
        "    elif price < 50000:\n",
        "        return 200\n",
        "    elif price < 100000:\n",
        "        return 1000\n",
        "    elif price < 500000:\n",
        "        return 2000\n",
        "    elif price < 1000000:\n",
        "        return 10000\n",
        "    elif price < 5000000:\n",
        "        return 20000\n",
        "    else:\n",
        "        return 100000"
      ]
    },
    {
      "cell_type": "code",
      "execution_count": null,
      "metadata": {
        "id": "m46cryMDHX6n"
      },
      "outputs": [],
      "source": [
        "def get_price_range(price):\n",
        "  \"\"\"\\\n",
        "  米国株用の値幅算出\n",
        "  [Introduction to Point & Figure Charts \\[ChartSchool\\]](https://school.stockcharts.com/doku.php?id=chart_analysis:pnf_charts:pnf_basics)\n",
        "  \"\"\"\n",
        "  if price < 0.25:\n",
        "    return 0.0625\n",
        "  elif price < 1:\n",
        "    return 0.125\n",
        "  elif price < 5:\n",
        "    return 0.25\n",
        "  elif price < 20:\n",
        "    return 0.50\n",
        "  elif price < 100:\n",
        "    return 1.00\n",
        "  elif price < 200:\n",
        "    return 2.00\n",
        "  elif price < 500:\n",
        "    return 4.00\n",
        "  elif price < 1000:\n",
        "    return 5.00\n",
        "  elif price < 25000:\n",
        "    return 50.00\n",
        "  else:\n",
        "    return 500.00\n"
      ]
    },
    {
      "cell_type": "markdown",
      "metadata": {
        "id": "skBwoqkjTV46"
      },
      "source": [
        "## 処理"
      ]
    },
    {
      "cell_type": "markdown",
      "metadata": {
        "id": "6R0DIteITzoy"
      },
      "source": [
        "requests_cacheの設定"
      ]
    },
    {
      "cell_type": "code",
      "execution_count": null,
      "metadata": {
        "id": "txj451HzTyN4"
      },
      "outputs": [],
      "source": [
        "expire_after = datetime.timedelta(days=1) # 1日キャッシュ\n",
        "session = CachedSession(cache_name='cache', backend='sqlite', \n",
        "                        expire_after=expire_after) \n",
        "session.headers = {\n",
        "    'User-Agent': 'Mozilla/5.0 (X11; Ubuntu; Linux x86_64; rv:89.0) Gecko/20100101 Firefox/89.0',\n",
        "    'Accept': 'application/json;charset=utf-8'\n",
        "}"
      ]
    },
    {
      "cell_type": "markdown",
      "metadata": {
        "id": "p9GsIpDsT5-B"
      },
      "source": [
        "算出および描画"
      ]
    },
    {
      "cell_type": "code",
      "execution_count": null,
      "metadata": {
        "colab": {
          "base_uri": "https://localhost:8080/"
        },
        "id": "zZQU_nxCT8Zh",
        "outputId": "fee67918-2799-498d-f91d-8ac14d78256c"
      },
      "outputs": [
        {
          "output_type": "stream",
          "name": "stdout",
          "text": [
            "\u001b[1mAmazon.com Inc. (AMZN)\u001b[0m\n",
            "\n",
            "\n",
            "Point & Figure (abs|cl) 50 x 3\n",
            "----  -  -  -  -  -  -  -  -  -  -  -  -  -  -  -  -  ----\n",
            "3700  X  .  .  .  .  .  .  .  .  .  .  .  .  .  .  .  3700\n",
            "3650  X  O  .  .  X  .  .  .  .  .  .  .  .  .  .  .  3650\n",
            "3600  X  O  .  .  X  O  .  .  .  .  .  .  .  .  .  .  3600\n",
            "3550  X  O  .  .  X  O  .  .  .  .  .  .  .  .  .  .  3550\n",
            "3500  X  O  X  .  X  O  .  .  .  .  .  .  .  .  .  .  3500\n",
            "3450  X  O  X  O  X  O  .  .  .  .  .  .  .  .  .  .  3450\n",
            "3400  X  O  X  O  X  O  .  .  .  .  .  .  .  .  .  .  3400\n",
            "3350  X  O  X  O  X  O  .  .  .  .  .  .  X  .  .  .  3350\n",
            "3300  X  O  X  O  X  O  .  .  .  .  .  .  X  O  .  .  3300\n",
            "3250  X  O  X  O  X  O  .  .  .  .  .  .  X  O  .  .  3250\n",
            "3200  X  O  .  O  .  O  .  .  X  .  .  .  X  O  .  .  3200\n",
            "3150  .  .  .  .  .  O  .  .  X  O  .  .  X  O  .  .  3150\n",
            "3100  .  .  .  .  .  O  .  .  X  O  .  .  X  O  .  .  3100\n",
            "3050  .  .  .  .  .  O  .  .  X  O  X  .  X  O  .  .  3050\n",
            "3000  .  .  .  .  .  O  X  .  X  O  X  O  X  O  .  .  3000\n",
            "2950  .  .  .  .  .  O  X  O  X  O  X  O  X  O  .  .  2950\n",
            "2900  .  .  .  .  .  O  X  O  X  O  .  O  X  O  .  .  2900\n",
            "2850  .  .  .  .  .  O  X  O  X  .  .  O  X  O  .  .  2850\n",
            "2800  .  .  .  .  .  O  .  O  .  .  .  O  X  O  .  .  2800\n",
            "2750  .  .  .  .  .  .  .  .  .  .  .  O  .  O  .  .  2750\n",
            "2700  .  .  .  .  .  .  .  .  .  .  .  .  .  O  .  .  2700\n",
            "2650  .  .  .  .  .  .  .  .  .  .  .  .  .  O  .  .  2650\n",
            "2600  .  .  .  .  .  .  .  .  .  .  .  .  .  O  .  .  2600\n",
            "2550  .  .  .  .  .  .  .  .  .  .  .  .  .  O  .  .  2550\n",
            "2500  .  .  .  .  .  .  .  .  .  .  .  .  .  O  .  .  2500\n",
            "2450  .  .  .  .  .  .  .  .  .  .  .  .  .  O  .  .  2450\n",
            "2400  .  .  .  .  .  .  .  .  .  .  .  .  .  O  .  .  2400\n",
            "2350  .  .  .  .  .  .  .  .  .  .  .  .  .  O  .  .  2350\n",
            "2300  .  .  .  .  .  .  .  .  .  .  .  .  .  O  X  .  2300\n",
            "2250  .  .  .  .  .  .  .  .  .  .  .  .  .  O  X  O  2250\n",
            "2200  .  .  .  .  .  .  .  .  .  .  .  .  .  O  X  O  2200\n",
            "2150  .  .  .  .  .  .  .  .  .  .  .  .  .  O  .  O  2150\n",
            "----  -  -  -  -  -  -  -  -  -  -  -  -  -  -  -  -  ----\n",
            "printed 16/16 columns.\n",
            "\n",
            "\n",
            "\n",
            "\u001b[1mAlphabet Inc. (GOOGL)\u001b[0m\n",
            "\n",
            "\n",
            "Point & Figure (abs|cl) 50 x 3\n",
            "----  -  -  -  -  -  -  -  -  ----\n",
            "2950  .  .  X  .  X  .  .  .  2950\n",
            "2900  X  .  X  O  X  O  .  .  2900\n",
            "2850  X  O  X  O  X  O  X  .  2850\n",
            "2800  X  O  X  O  X  O  X  O  2800\n",
            "2750  X  O  X  O  X  O  X  O  2750\n",
            "2700  X  O  .  O  X  O  X  O  2700\n",
            "2650  X  .  .  O  X  O  X  O  2650\n",
            "2600  X  .  .  O  X  O  X  O  2600\n",
            "2550  X  .  .  O  .  O  .  O  2550\n",
            "2500  X  .  .  .  .  .  .  O  2500\n",
            "2450  X  .  .  .  .  .  .  O  2450\n",
            "2400  X  .  .  .  .  .  .  O  2400\n",
            "2350  X  .  .  .  .  .  .  O  2350\n",
            "2300  .  .  .  .  .  .  .  O  2300\n",
            "2250  .  .  .  .  .  .  .  O  2250\n",
            "2200  .  .  .  .  .  .  .  O  2200\n",
            "----  -  -  -  -  -  -  -  -  ----\n",
            "printed 8/8 columns.\n",
            "\n",
            "\n",
            "\n",
            "\u001b[1mトヨタ自動車 (7203.T)\u001b[0m\n",
            "\n",
            "\n",
            "Point & Figure (abs|cl) 50.0 x 3\n",
            "----  -  -  -  -  -  -  -  -  -  -  ----\n",
            "2400  .  .  .  .  X  .  .  .  .  .  2400\n",
            "2350  .  .  .  .  X  O  .  .  .  .  2350\n",
            "2300  .  .  .  .  X  O  .  .  .  .  2300\n",
            "2250  .  .  .  .  X  O  X  .  X  .  2250\n",
            "2200  .  .  .  .  X  O  X  O  X  O  2200\n",
            "2150  .  .  .  .  X  O  X  O  X  O  2150\n",
            "2100  .  .  .  .  X  O  X  O  .  O  2100\n",
            "2050  .  .  X  .  X  O  X  .  .  O  2050\n",
            "2000  X  .  X  O  X  O  X  .  .  .  2000\n",
            "1950  X  O  X  O  X  O  X  .  .  .  1950\n",
            "1900  X  O  X  O  X  O  X  .  .  .  1900\n",
            "1850  X  O  X  O  .  O  .  .  .  .  1850\n",
            "1800  X  O  .  .  .  .  .  .  .  .  1800\n",
            "1750  X  .  .  .  .  .  .  .  .  .  1750\n",
            "----  -  -  -  -  -  -  -  -  -  -  ----\n",
            "printed 10/10 columns.\n",
            "\n",
            "\n",
            "\n",
            "\u001b[1mNikkei225 (^N225)\u001b[0m\n",
            "\n",
            "\n",
            "Point & Figure (abs|cl) 100 x 3\n",
            "-----  -  -  -  -  -  -  -  -  -  -  -  -  -  -  -  -  -  -  -  -  -  -  -  -  -  -  -  -  -  -  -----\n",
            "29800  .  .  X  .  .  .  .  .  .  .  .  .  .  .  .  .  .  .  .  .  .  .  .  .  .  .  .  .  .  .  29800\n",
            "29700  X  .  X  O  .  .  .  .  .  .  .  .  .  .  .  .  .  .  .  .  .  .  .  .  .  .  .  .  .  .  29700\n",
            "29600  X  O  X  O  .  .  .  .  .  .  .  .  .  .  .  .  .  .  .  .  .  .  .  .  .  .  .  .  .  .  29600\n",
            "29500  X  O  X  O  .  .  .  .  .  .  .  .  .  .  .  .  .  .  .  .  .  .  .  .  .  .  .  .  .  .  29500\n",
            "29400  X  O  X  O  .  .  .  .  .  .  .  .  .  .  .  .  .  .  .  .  .  .  .  .  .  .  .  .  .  .  29400\n",
            "29300  X  O  X  O  .  .  .  .  X  .  .  .  .  .  .  .  .  .  .  .  .  .  .  .  .  .  .  .  .  .  29300\n",
            "29200  X  O  .  O  .  .  .  .  X  O  .  .  .  .  .  .  .  .  .  .  .  .  .  .  .  .  .  .  .  .  29200\n",
            "29100  X  .  .  O  .  .  .  .  X  O  .  .  .  .  .  .  .  .  .  .  .  .  .  .  .  .  .  .  .  .  29100\n",
            "29000  X  .  .  O  .  .  X  .  X  O  .  .  .  .  .  .  .  .  .  .  .  .  .  .  .  .  .  .  .  .  29000\n",
            "28900  X  .  .  O  .  .  X  O  X  O  .  .  .  .  .  .  .  .  .  .  .  .  .  .  .  .  .  .  .  .  28900\n",
            "28800  X  .  .  O  X  .  X  O  X  O  .  .  .  .  .  .  .  .  .  .  .  .  .  .  .  .  .  .  .  .  28800\n",
            "28700  .  .  .  O  X  O  X  O  X  O  X  .  .  .  .  .  .  .  .  .  .  .  .  .  .  .  .  .  .  .  28700\n",
            "28600  .  .  .  O  X  O  X  O  X  O  X  O  .  .  .  .  .  .  .  .  .  .  .  .  .  .  .  .  .  .  28600\n",
            "28500  .  .  .  O  X  O  .  O  X  O  X  O  .  .  .  .  .  .  .  .  .  .  .  .  .  .  .  .  .  .  28500\n",
            "28400  .  .  .  O  X  .  .  O  X  O  X  O  .  .  .  .  .  .  .  .  .  .  .  .  .  .  .  .  .  .  28400\n",
            "28300  .  .  .  O  X  .  .  O  X  O  .  O  .  .  .  .  .  .  .  .  .  .  .  .  .  .  .  .  .  .  28300\n",
            "28200  .  .  .  O  X  .  .  O  X  .  .  O  .  .  .  .  .  .  .  .  X  .  .  .  .  .  .  .  .  .  28200\n",
            "28100  .  .  .  O  X  .  .  O  X  .  .  O  .  .  .  .  .  .  .  .  X  O  .  .  .  .  .  .  .  .  28100\n",
            "28000  .  .  .  O  X  .  .  O  .  .  .  O  .  .  .  .  .  .  .  .  X  O  .  .  .  .  .  .  .  .  28000\n",
            "27900  .  .  .  O  X  .  .  .  .  .  .  O  .  .  .  .  .  .  .  .  X  O  .  .  .  .  .  .  .  .  27900\n",
            "27800  .  .  .  O  .  .  .  .  .  .  .  O  .  .  .  .  .  .  .  .  X  O  .  .  .  .  .  .  .  .  27800\n",
            "27700  .  .  .  .  .  .  .  .  .  .  .  O  .  .  .  .  .  .  .  .  X  O  .  .  .  .  .  .  .  .  27700\n",
            "27600  .  .  .  .  .  .  .  .  .  .  .  O  X  .  .  .  .  .  .  .  X  O  .  .  .  .  .  .  .  .  27600\n",
            "27500  .  .  .  .  .  .  .  .  .  .  .  O  X  O  .  .  .  .  .  .  X  O  .  .  X  .  .  .  .  .  27500\n",
            "27400  .  .  .  .  .  .  .  .  .  .  .  O  X  O  X  .  .  .  .  .  X  O  .  .  X  O  .  .  .  .  27400\n",
            "27300  .  .  .  .  .  .  .  .  .  .  .  O  X  O  X  O  .  .  .  .  X  O  .  .  X  O  .  .  .  .  27300\n",
            "27200  .  .  .  .  .  .  .  .  .  .  .  O  X  O  X  O  .  .  .  .  X  O  .  .  X  O  .  .  .  .  27200\n",
            "27100  .  .  .  .  .  .  .  .  .  .  .  O  X  O  X  O  .  .  .  .  X  O  X  .  X  O  .  .  .  .  27100\n",
            "27000  .  .  .  .  .  .  .  .  .  .  .  O  X  O  X  O  .  .  .  .  X  O  X  O  X  O  X  .  .  .  27000\n",
            "26900  .  .  .  .  .  .  .  .  .  .  .  O  X  O  .  O  .  .  .  .  X  O  X  O  X  O  X  O  X  .  26900\n",
            "26800  .  .  .  .  .  .  .  .  .  .  .  O  X  .  .  O  X  .  .  .  X  O  X  O  .  O  X  O  X  O  26800\n",
            "26700  .  .  .  .  .  .  .  .  .  .  .  O  X  .  .  O  X  O  .  .  X  O  X  .  .  O  X  O  X  O  26700\n",
            "26600  .  .  .  .  .  .  .  .  .  .  .  O  X  .  .  O  X  O  .  .  X  O  X  .  .  O  X  O  X  O  26600\n",
            "26500  .  .  .  .  .  .  .  .  .  .  .  O  X  .  .  O  X  O  .  .  X  O  X  .  .  O  X  O  X  O  26500\n",
            "26400  .  .  .  .  .  .  .  .  .  .  .  O  X  .  .  O  X  O  .  .  X  O  .  .  .  O  .  O  X  .  26400\n",
            "26300  .  .  .  .  .  .  .  .  .  .  .  O  X  .  .  O  X  O  .  .  X  .  .  .  .  .  .  O  X  .  26300\n",
            "26200  .  .  .  .  .  .  .  .  .  .  .  O  .  .  .  O  X  O  .  .  X  .  .  .  .  .  .  O  X  .  26200\n",
            "26100  .  .  .  .  .  .  .  .  .  .  .  .  .  .  .  O  X  O  .  .  X  .  .  .  .  .  .  O  X  .  26100\n",
            "26000  .  .  .  .  .  .  .  .  .  .  .  .  .  .  .  O  .  O  .  .  X  .  .  .  .  .  .  O  X  .  26000\n",
            "25900  .  .  .  .  .  .  .  .  .  .  .  .  .  .  .  .  .  O  .  .  X  .  .  .  .  .  .  O  X  .  25900\n",
            "25800  .  .  .  .  .  .  .  .  .  .  .  .  .  .  .  .  .  O  .  .  X  .  .  .  .  .  .  O  .  .  25800\n",
            "25700  .  .  .  .  .  .  .  .  .  .  .  .  .  .  .  .  .  O  .  .  X  .  .  .  .  .  .  .  .  .  25700\n",
            "25600  .  .  .  .  .  .  .  .  .  .  .  .  .  .  .  .  .  O  X  .  X  .  .  .  .  .  .  .  .  .  25600\n",
            "25500  .  .  .  .  .  .  .  .  .  .  .  .  .  .  .  .  .  O  X  O  X  .  .  .  .  .  .  .  .  .  25500\n",
            "25400  .  .  .  .  .  .  .  .  .  .  .  .  .  .  .  .  .  O  X  O  X  .  .  .  .  .  .  .  .  .  25400\n",
            "25300  .  .  .  .  .  .  .  .  .  .  .  .  .  .  .  .  .  O  X  O  X  .  .  .  .  .  .  .  .  .  25300\n",
            "25200  .  .  .  .  .  .  .  .  .  .  .  .  .  .  .  .  .  O  X  O  .  .  .  .  .  .  .  .  .  .  25200\n",
            "25100  .  .  .  .  .  .  .  .  .  .  .  .  .  .  .  .  .  O  X  .  .  .  .  .  .  .  .  .  .  .  25100\n",
            "25000  .  .  .  .  .  .  .  .  .  .  .  .  .  .  .  .  .  O  X  .  .  .  .  .  .  .  .  .  .  .  25000\n",
            "24900  .  .  .  .  .  .  .  .  .  .  .  .  .  .  .  .  .  O  X  .  .  .  .  .  .  .  .  .  .  .  24900\n",
            "24800  .  .  .  .  .  .  .  .  .  .  .  .  .  .  .  .  .  O  .  .  .  .  .  .  .  .  .  .  .  .  24800\n",
            "-----  -  -  -  -  -  -  -  -  -  -  -  -  -  -  -  -  -  -  -  -  -  -  -  -  -  -  -  -  -  -  -----\n",
            "printed 30/46 columns.\n",
            "\n",
            "\n",
            "\n",
            "\u001b[1mUSD/JPY (JPY=X)\u001b[0m\n",
            "\n",
            "\n",
            "Point & Figure (abs|cl) 0.1 x 3\n",
            "-----  -  -  -  -  -  -  -  -  -  -  -  -  -  -  -  -  -  -  -  -  -  -  -  -  -  -  -  -  -  -  -----\n",
            "130.8  .  .  .  .  .  .  .  .  .  .  .  .  .  .  .  .  .  .  .  .  .  .  X  .  .  .  .  .  .  .  130.8\n",
            "130.7  .  .  .  .  .  .  .  .  .  .  .  .  .  .  .  .  .  .  .  .  .  .  X  O  X  .  .  .  .  .  130.7\n",
            "130.6  .  .  .  .  .  .  .  .  .  .  .  .  .  .  .  .  .  .  .  .  .  .  X  O  X  O  .  .  .  .  130.6\n",
            "130.5  .  .  .  .  .  .  .  .  .  .  .  .  .  .  .  .  .  .  .  .  .  .  X  O  X  O  .  .  .  .  130.5\n",
            "130.4  .  .  .  .  .  .  .  .  .  .  .  .  .  .  .  .  .  .  .  .  .  .  X  O  X  O  .  .  .  .  130.4\n",
            "130.3  .  .  .  .  .  .  .  .  .  .  .  .  .  .  .  .  .  .  .  .  .  .  X  O  X  O  .  .  .  .  130.3\n",
            "130.2  .  .  .  .  .  .  .  .  .  .  .  .  .  .  .  .  .  .  .  .  .  .  X  O  X  O  .  .  .  .  130.2\n",
            "130.1  .  .  .  .  .  .  .  .  .  .  .  .  .  .  .  .  .  .  .  .  .  .  X  O  X  O  .  .  .  .  130.1\n",
            "130    .  .  .  .  .  .  .  .  .  .  .  .  .  .  .  .  .  .  .  .  .  .  X  O  X  O  .  .  .  .  130\n",
            "129.9  .  .  .  .  .  .  .  .  .  .  .  .  .  .  .  .  .  .  .  .  .  .  X  O  X  O  .  .  .  .  129.9\n",
            "129.8  .  .  .  .  .  .  .  .  .  .  .  .  .  .  .  .  .  .  .  .  .  .  X  O  X  O  .  .  .  .  129.8\n",
            "129.7  .  .  .  .  .  .  .  .  .  .  .  .  .  .  .  .  .  .  .  .  .  .  X  O  X  O  .  .  .  .  129.7\n",
            "129.6  .  .  .  .  .  .  .  .  .  .  .  .  .  .  .  .  .  .  .  .  .  .  X  O  X  O  .  .  .  .  129.6\n",
            "129.5  .  .  .  .  .  .  .  .  .  .  .  .  .  .  .  .  .  .  .  .  .  .  X  O  X  O  .  .  .  .  129.5\n",
            "129.4  .  .  .  .  .  .  .  .  .  .  .  .  .  .  .  .  .  .  .  .  .  .  X  O  X  O  X  .  X  .  129.4\n",
            "129.3  .  .  .  .  .  .  .  .  .  .  .  .  .  .  .  .  .  .  X  .  .  .  X  O  .  O  X  O  X  O  129.3\n",
            "129.2  .  .  .  .  .  .  .  .  .  .  .  .  .  .  .  .  .  .  X  O  .  .  X  .  .  O  X  O  X  O  129.2\n",
            "129.1  .  .  .  .  .  .  .  .  .  .  .  .  .  .  .  .  .  .  X  O  .  .  X  .  .  O  X  O  X  O  129.1\n",
            "129    .  .  .  .  .  .  .  .  .  .  .  .  .  .  .  .  .  .  X  O  .  .  X  .  .  O  X  O  .  O  129\n",
            "128.9  .  .  .  .  .  .  .  .  .  .  .  .  .  .  .  .  .  .  X  O  .  .  X  .  .  O  X  .  .  O  128.9\n",
            "128.8  .  .  .  .  .  .  .  .  .  .  .  .  .  .  .  .  .  .  X  O  .  .  X  .  .  O  X  .  .  O  128.8\n",
            "128.7  .  .  .  .  .  .  .  .  .  .  .  .  .  .  .  .  .  .  X  O  .  .  X  .  .  O  X  .  .  O  128.7\n",
            "128.6  .  .  .  .  .  .  .  .  .  .  .  .  .  .  .  .  .  .  X  O  X  .  X  .  .  O  .  .  .  O  128.6\n",
            "128.5  .  .  .  .  .  .  .  .  .  .  .  .  .  .  .  .  .  .  X  O  X  O  X  .  .  .  .  .  .  O  128.5\n",
            "128.4  .  .  .  .  .  .  .  .  .  .  .  .  .  .  .  .  .  .  X  O  X  O  X  .  .  .  .  .  .  O  128.4\n",
            "128.3  .  .  .  .  .  .  .  .  .  .  .  .  .  .  .  .  .  .  X  O  X  O  X  .  .  .  .  .  .  O  128.3\n",
            "128.2  .  .  .  .  .  .  .  .  .  .  .  .  .  .  .  .  .  .  X  O  X  O  X  .  .  .  .  .  .  O  128.2\n",
            "128.1  .  .  .  .  .  .  .  .  .  .  .  .  .  .  .  .  .  .  X  O  .  O  X  .  .  .  .  .  .  O  128.1\n",
            "128    .  .  .  .  .  .  .  .  .  .  .  .  .  .  .  .  .  .  X  .  .  O  X  .  .  .  .  .  .  O  128\n",
            "127.9  .  .  .  .  .  .  .  .  .  .  .  .  .  .  .  .  .  .  X  .  .  O  X  .  .  .  .  .  .  O  127.9\n",
            "127.8  .  .  .  .  .  .  .  .  .  .  .  .  .  .  .  .  .  .  X  .  .  O  X  .  .  .  .  .  .  .  127.8\n",
            "127.7  .  .  .  .  .  .  .  .  .  .  .  .  .  .  .  .  .  .  X  .  .  O  X  .  .  .  .  .  .  .  127.7\n",
            "127.6  .  .  .  .  .  .  .  .  .  .  .  .  .  .  .  .  .  .  X  .  .  O  X  .  .  .  .  .  .  .  127.6\n",
            "127.5  .  .  .  .  .  .  .  .  .  .  .  .  .  .  .  .  .  .  X  .  .  O  X  .  .  .  .  .  .  .  127.5\n",
            "127.4  .  .  .  .  .  .  .  .  .  .  .  .  .  .  .  .  .  .  X  .  .  O  X  .  .  .  .  .  .  .  127.4\n",
            "127.3  .  .  .  .  .  .  .  .  .  .  .  .  .  .  .  .  .  .  X  .  .  O  .  .  .  .  .  .  .  .  127.3\n",
            "127.2  .  .  .  .  .  .  .  .  .  .  .  .  .  .  .  .  .  .  X  .  .  .  .  .  .  .  .  .  .  .  127.2\n",
            "127.1  .  .  .  .  .  .  .  .  .  .  .  .  .  .  .  .  .  .  X  .  .  .  .  .  .  .  .  .  .  .  127.1\n",
            "127    .  .  .  .  .  .  .  .  .  .  .  .  .  .  .  .  .  .  X  .  .  .  .  .  .  .  .  .  .  .  127\n",
            "126.9  .  .  .  .  .  .  .  .  .  .  .  .  .  .  .  .  .  .  X  .  .  .  .  .  .  .  .  .  .  .  126.9\n",
            "126.8  .  .  .  .  .  .  .  .  .  .  .  .  .  .  .  .  .  .  X  .  .  .  .  .  .  .  .  .  .  .  126.8\n",
            "126.7  .  .  .  .  .  .  .  .  .  .  .  .  .  .  .  .  .  .  X  .  .  .  .  .  .  .  .  .  .  .  126.7\n",
            "126.6  .  .  .  .  .  .  .  .  .  .  .  .  .  .  .  .  .  .  X  .  .  .  .  .  .  .  .  .  .  .  126.6\n",
            "126.5  .  .  .  .  .  .  .  .  .  .  .  .  .  .  .  .  .  .  X  .  .  .  .  .  .  .  .  .  .  .  126.5\n",
            "126.4  .  .  .  .  .  .  .  .  .  .  .  .  .  .  .  .  .  .  X  .  .  .  .  .  .  .  .  .  .  .  126.4\n",
            "126.3  .  .  .  .  .  .  .  .  .  .  .  .  .  .  .  .  .  .  X  .  .  .  .  .  .  .  .  .  .  .  126.3\n",
            "126.2  .  .  .  .  .  .  .  .  .  .  .  .  .  .  .  .  .  .  X  .  .  .  .  .  .  .  .  .  .  .  126.2\n",
            "126.1  .  .  .  .  .  .  .  .  .  .  .  .  .  .  .  .  .  .  X  .  .  .  .  .  .  .  .  .  .  .  126.1\n",
            "126    .  .  .  .  .  .  .  .  .  .  .  .  .  .  .  .  .  .  X  .  .  .  .  .  .  .  .  .  .  .  126\n",
            "125.9  .  .  .  .  .  .  .  .  .  .  .  .  .  .  .  .  .  .  X  .  .  .  .  .  .  .  .  .  .  .  125.9\n",
            "125.8  .  .  .  .  .  .  .  .  .  .  .  .  .  .  .  .  .  .  X  .  .  .  .  .  .  .  .  .  .  .  125.8\n",
            "125.7  .  .  .  .  .  .  .  .  .  .  .  .  .  .  .  .  .  .  X  .  .  .  .  .  .  .  .  .  .  .  125.7\n",
            "125.6  .  .  .  .  .  .  .  .  .  .  .  .  .  .  .  .  .  .  X  .  .  .  .  .  .  .  .  .  .  .  125.6\n",
            "125.5  .  .  .  .  .  .  .  .  .  .  .  .  .  .  .  .  .  .  X  .  .  .  .  .  .  .  .  .  .  .  125.5\n",
            "125.4  .  .  .  .  .  .  .  .  .  .  .  .  .  .  .  .  .  .  X  .  .  .  .  .  .  .  .  .  .  .  125.4\n",
            "125.3  .  .  .  .  .  .  .  .  .  .  .  .  .  .  .  .  .  .  X  .  .  .  .  .  .  .  .  .  .  .  125.3\n",
            "125.2  .  .  .  .  .  .  .  .  .  .  .  .  .  .  .  .  .  .  X  .  .  .  .  .  .  .  .  .  .  .  125.2\n",
            "125.1  .  .  .  .  .  .  .  .  .  .  .  .  .  .  .  .  .  .  X  .  .  .  .  .  .  .  .  .  .  .  125.1\n",
            "125    .  .  .  .  .  .  .  .  .  .  .  .  .  .  .  .  .  .  X  .  .  .  .  .  .  .  .  .  .  .  125\n",
            "124.9  .  .  .  .  .  .  .  .  .  .  .  .  .  .  .  .  .  .  X  .  .  .  .  .  .  .  .  .  .  .  124.9\n",
            "124.8  .  .  .  .  .  .  .  .  .  .  .  .  .  .  .  .  .  .  X  .  .  .  .  .  .  .  .  .  .  .  124.8\n",
            "124.7  .  .  .  .  .  .  .  .  .  .  .  .  .  .  .  .  .  .  X  .  .  .  .  .  .  .  .  .  .  .  124.7\n",
            "124.6  .  .  .  .  .  .  .  .  .  .  .  .  .  .  .  .  .  .  X  .  .  .  .  .  .  .  .  .  .  .  124.6\n",
            "124.5  .  .  .  .  .  .  .  .  .  .  .  .  .  .  .  .  .  .  X  .  .  .  .  .  .  .  .  .  .  .  124.5\n",
            "124.4  .  .  .  .  .  .  .  .  .  .  .  .  .  .  .  .  .  .  X  .  .  .  .  .  .  .  .  .  .  .  124.4\n",
            "124.3  .  .  .  .  .  .  .  .  .  .  .  .  .  .  .  .  .  .  X  .  .  .  .  .  .  .  .  .  .  .  124.3\n",
            "124.2  .  .  .  .  .  .  .  .  .  .  .  .  .  .  .  .  .  .  X  .  .  .  .  .  .  .  .  .  .  .  124.2\n",
            "124.1  .  .  .  .  .  .  .  .  .  .  .  .  .  .  .  .  .  .  X  .  .  .  .  .  .  .  .  .  .  .  124.1\n",
            "124    .  .  .  .  .  .  .  .  .  .  .  .  .  .  .  .  .  .  X  .  .  .  .  .  .  .  .  .  .  .  124\n",
            "123.9  .  .  .  .  .  .  .  .  .  .  .  .  .  .  .  .  .  .  X  .  .  .  .  .  .  .  .  .  .  .  123.9\n",
            "123.8  .  .  .  .  .  .  .  .  .  .  .  .  .  .  .  .  .  .  X  .  .  .  .  .  .  .  .  .  .  .  123.8\n",
            "123.7  .  .  .  .  .  .  .  .  .  .  .  .  .  .  .  .  .  .  X  .  .  .  .  .  .  .  .  .  .  .  123.7\n",
            "123.6  .  .  .  .  .  .  .  .  .  .  .  .  .  .  .  .  X  .  X  .  .  .  .  .  .  .  .  .  .  .  123.6\n",
            "123.5  .  .  .  .  .  .  .  .  .  .  .  .  .  .  .  .  X  O  X  .  .  .  .  .  .  .  .  .  .  .  123.5\n",
            "123.4  .  .  .  .  .  .  .  .  .  .  .  .  .  .  .  .  X  O  X  .  .  .  .  .  .  .  .  .  .  .  123.4\n",
            "123.3  .  .  .  .  .  .  .  .  .  .  .  .  .  .  .  .  X  O  X  .  .  .  .  .  .  .  .  .  .  .  123.3\n",
            "123.2  .  .  .  .  .  .  .  .  .  .  .  .  .  .  .  .  X  O  X  .  .  .  .  .  .  .  .  .  .  .  123.2\n",
            "123.1  .  .  .  .  .  .  .  .  .  .  .  .  .  .  .  .  X  O  X  .  .  .  .  .  .  .  .  .  .  .  123.1\n",
            "123    .  .  .  .  .  .  .  .  .  .  .  .  .  .  .  .  X  O  X  .  .  .  .  .  .  .  .  .  .  .  123\n",
            "122.9  .  .  .  .  .  .  .  .  .  .  .  .  .  .  .  .  X  O  X  .  .  .  .  .  .  .  .  .  .  .  122.9\n",
            "122.8  .  .  .  .  .  .  .  .  .  .  .  .  .  .  .  .  X  O  X  .  .  .  .  .  .  .  .  .  .  .  122.8\n",
            "122.7  .  .  .  .  .  .  .  .  .  .  .  .  .  .  .  .  X  O  X  .  .  .  .  .  .  .  .  .  .  .  122.7\n",
            "122.6  .  .  .  .  .  .  .  .  .  .  .  .  .  .  .  .  X  O  X  .  .  .  .  .  .  .  .  .  .  .  122.6\n",
            "122.5  .  .  .  .  .  .  .  .  .  .  .  .  .  .  .  .  X  O  X  .  .  .  .  .  .  .  .  .  .  .  122.5\n",
            "122.4  .  .  .  .  .  .  .  .  .  .  .  .  .  .  .  .  X  O  X  .  .  .  .  .  .  .  .  .  .  .  122.4\n",
            "122.3  .  .  .  .  .  .  .  .  .  .  .  .  .  .  .  .  X  O  X  .  .  .  .  .  .  .  .  .  .  .  122.3\n",
            "122.2  .  .  .  .  .  .  .  .  .  .  .  .  .  .  .  .  X  O  X  .  .  .  .  .  .  .  .  .  .  .  122.2\n",
            "122.1  .  .  .  .  .  .  .  .  .  .  .  .  .  .  .  .  X  O  X  .  .  .  .  .  .  .  .  .  .  .  122.1\n",
            "122    .  .  .  .  .  .  .  .  .  .  .  .  .  .  .  .  X  O  X  .  .  .  .  .  .  .  .  .  .  .  122\n",
            "121.9  .  .  .  .  .  .  .  .  .  .  .  .  .  .  .  .  X  O  X  .  .  .  .  .  .  .  .  .  .  .  121.9\n",
            "121.8  .  .  .  .  .  .  .  .  .  .  .  .  .  .  .  .  X  O  .  .  .  .  .  .  .  .  .  .  .  .  121.8\n",
            "121.7  .  .  .  .  .  .  .  .  .  .  .  .  .  .  .  .  X  .  .  .  .  .  .  .  .  .  .  .  .  .  121.7\n",
            "121.6  .  .  .  .  .  .  .  .  .  .  .  .  .  .  .  .  X  .  .  .  .  .  .  .  .  .  .  .  .  .  121.6\n",
            "121.5  .  .  .  .  .  .  .  .  .  .  .  .  .  .  .  .  X  .  .  .  .  .  .  .  .  .  .  .  .  .  121.5\n",
            "121.4  .  .  .  .  .  .  .  .  .  .  .  .  .  .  .  .  X  .  .  .  .  .  .  .  .  .  .  .  .  .  121.4\n",
            "121.3  .  .  .  .  .  .  .  .  .  .  .  .  .  .  .  .  X  .  .  .  .  .  .  .  .  .  .  .  .  .  121.3\n",
            "121.2  .  .  .  .  .  .  .  .  .  .  .  .  .  .  .  .  X  .  .  .  .  .  .  .  .  .  .  .  .  .  121.2\n",
            "121.1  .  .  .  .  .  .  .  .  .  .  .  .  .  .  .  .  X  .  .  .  .  .  .  .  .  .  .  .  .  .  121.1\n",
            "121    .  .  .  .  .  .  .  .  .  .  .  .  .  .  .  .  X  .  .  .  .  .  .  .  .  .  .  .  .  .  121\n",
            "120.9  .  .  .  .  .  .  .  .  .  .  .  .  .  .  .  .  X  .  .  .  .  .  .  .  .  .  .  .  .  .  120.9\n",
            "120.8  .  .  .  .  .  .  .  .  .  .  .  .  .  .  .  .  X  .  .  .  .  .  .  .  .  .  .  .  .  .  120.8\n",
            "120.7  .  .  .  .  .  .  .  .  .  .  .  .  .  .  .  .  X  .  .  .  .  .  .  .  .  .  .  .  .  .  120.7\n",
            "120.6  .  .  .  .  .  .  .  .  .  .  .  .  .  .  .  .  X  .  .  .  .  .  .  .  .  .  .  .  .  .  120.6\n",
            "120.5  .  .  .  .  .  .  .  .  .  .  .  .  .  .  .  .  X  .  .  .  .  .  .  .  .  .  .  .  .  .  120.5\n",
            "120.4  .  .  .  .  .  .  .  .  .  .  .  .  .  .  .  .  X  .  .  .  .  .  .  .  .  .  .  .  .  .  120.4\n",
            "120.3  .  .  .  .  .  .  .  .  .  .  .  .  .  .  .  .  X  .  .  .  .  .  .  .  .  .  .  .  .  .  120.3\n",
            "120.2  .  .  .  .  .  .  .  .  .  .  .  .  .  .  .  .  X  .  .  .  .  .  .  .  .  .  .  .  .  .  120.2\n",
            "120.1  .  .  .  .  .  .  .  .  .  .  .  .  .  .  .  .  X  .  .  .  .  .  .  .  .  .  .  .  .  .  120.1\n",
            "120    .  .  .  .  .  .  .  .  .  .  .  .  .  .  .  .  X  .  .  .  .  .  .  .  .  .  .  .  .  .  120\n",
            "119.9  .  .  .  .  .  .  .  .  .  .  .  .  .  .  .  .  X  .  .  .  .  .  .  .  .  .  .  .  .  .  119.9\n",
            "119.8  .  .  .  .  .  .  .  .  .  .  .  .  .  .  .  .  X  .  .  .  .  .  .  .  .  .  .  .  .  .  119.8\n",
            "119.7  .  .  .  .  .  .  .  .  .  .  .  .  .  .  .  .  X  .  .  .  .  .  .  .  .  .  .  .  .  .  119.7\n",
            "119.6  .  .  .  .  .  .  .  .  .  .  .  .  .  .  .  .  X  .  .  .  .  .  .  .  .  .  .  .  .  .  119.6\n",
            "119.5  .  .  .  .  .  .  .  .  .  .  .  .  .  .  .  .  X  .  .  .  .  .  .  .  .  .  .  .  .  .  119.5\n",
            "119.4  .  .  .  .  .  .  .  .  .  .  .  .  .  .  .  .  X  .  .  .  .  .  .  .  .  .  .  .  .  .  119.4\n",
            "119.3  .  .  .  .  .  .  .  .  .  .  .  .  .  .  .  .  X  .  .  .  .  .  .  .  .  .  .  .  .  .  119.3\n",
            "119.2  .  .  .  .  .  .  .  .  .  .  .  .  .  .  .  .  X  .  .  .  .  .  .  .  .  .  .  .  .  .  119.2\n",
            "119.1  .  .  .  .  .  .  .  .  .  .  .  .  .  .  .  .  X  .  .  .  .  .  .  .  .  .  .  .  .  .  119.1\n",
            "119    .  .  .  .  .  .  .  .  .  .  .  .  .  .  .  .  X  .  .  .  .  .  .  .  .  .  .  .  .  .  119\n",
            "118.9  .  .  .  .  .  .  .  .  .  .  .  .  .  .  .  .  X  .  .  .  .  .  .  .  .  .  .  .  .  .  118.9\n",
            "118.8  .  .  .  .  .  .  .  .  .  .  .  .  .  .  X  .  X  .  .  .  .  .  .  .  .  .  .  .  .  .  118.8\n",
            "118.7  .  .  .  .  .  .  .  .  .  .  .  .  .  .  X  O  X  .  .  .  .  .  .  .  .  .  .  .  .  .  118.7\n",
            "118.6  .  .  .  .  .  .  .  .  .  .  .  .  .  .  X  O  X  .  .  .  .  .  .  .  .  .  .  .  .  .  118.6\n",
            "118.5  .  .  .  .  .  .  .  .  .  .  .  .  .  .  X  O  .  .  .  .  .  .  .  .  .  .  .  .  .  .  118.5\n",
            "118.4  .  .  .  .  .  .  .  .  .  .  .  .  .  .  X  .  .  .  .  .  .  .  .  .  .  .  .  .  .  .  118.4\n",
            "118.3  .  .  .  .  .  .  .  .  .  .  .  .  .  .  X  .  .  .  .  .  .  .  .  .  .  .  .  .  .  .  118.3\n",
            "118.2  .  .  .  .  .  .  .  .  .  .  .  .  .  .  X  .  .  .  .  .  .  .  .  .  .  .  .  .  .  .  118.2\n",
            "118.1  .  .  .  .  .  .  .  .  .  .  .  .  .  .  X  .  .  .  .  .  .  .  .  .  .  .  .  .  .  .  118.1\n",
            "118    .  .  .  .  .  .  .  .  .  .  .  .  .  .  X  .  .  .  .  .  .  .  .  .  .  .  .  .  .  .  118\n",
            "117.9  .  .  .  .  .  .  .  .  .  .  .  .  .  .  X  .  .  .  .  .  .  .  .  .  .  .  .  .  .  .  117.9\n",
            "117.8  .  .  .  .  .  .  .  .  .  .  .  .  .  .  X  .  .  .  .  .  .  .  .  .  .  .  .  .  .  .  117.8\n",
            "117.7  .  .  .  .  .  .  .  .  .  .  .  .  .  .  X  .  .  .  .  .  .  .  .  .  .  .  .  .  .  .  117.7\n",
            "117.6  .  .  .  .  .  .  .  .  .  .  .  .  .  .  X  .  .  .  .  .  .  .  .  .  .  .  .  .  .  .  117.6\n",
            "117.5  .  .  .  .  .  .  .  .  .  .  .  .  .  .  X  .  .  .  .  .  .  .  .  .  .  .  .  .  .  .  117.5\n",
            "117.4  .  .  .  .  .  .  .  .  .  .  .  .  .  .  X  .  .  .  .  .  .  .  .  .  .  .  .  .  .  .  117.4\n",
            "117.3  .  .  .  .  .  .  .  .  .  .  .  .  .  .  X  .  .  .  .  .  .  .  .  .  .  .  .  .  .  .  117.3\n",
            "117.2  .  .  .  .  .  .  .  .  .  .  .  .  .  .  X  .  .  .  .  .  .  .  .  .  .  .  .  .  .  .  117.2\n",
            "117.1  .  .  .  .  .  .  .  .  .  .  .  .  .  .  X  .  .  .  .  .  .  .  .  .  .  .  .  .  .  .  117.1\n",
            "117    .  .  .  .  .  .  .  .  .  .  .  .  .  .  X  .  .  .  .  .  .  .  .  .  .  .  .  .  .  .  117\n",
            "116.9  .  .  .  .  .  .  .  .  .  .  .  .  .  .  X  .  .  .  .  .  .  .  .  .  .  .  .  .  .  .  116.9\n",
            "116.8  .  .  .  .  .  .  .  .  .  .  .  .  .  .  X  .  .  .  .  .  .  .  .  .  .  .  .  .  .  .  116.8\n",
            "116.7  .  .  .  .  .  .  .  .  .  .  .  .  .  .  X  .  .  .  .  .  .  .  .  .  .  .  .  .  .  .  116.7\n",
            "116.6  .  .  .  .  .  .  .  .  .  .  .  .  .  .  X  .  .  .  .  .  .  .  .  .  .  .  .  .  .  .  116.6\n",
            "116.5  .  .  .  .  .  .  .  .  .  .  .  .  .  .  X  .  .  .  .  .  .  .  .  .  .  .  .  .  .  .  116.5\n",
            "116.4  .  .  .  .  .  .  .  .  .  .  .  .  .  .  X  .  .  .  .  .  .  .  .  .  .  .  .  .  .  .  116.4\n",
            "116.3  .  .  .  .  .  .  .  .  .  .  .  .  .  .  X  .  .  .  .  .  .  .  .  .  .  .  .  .  .  .  116.3\n",
            "116.2  .  .  .  .  .  .  .  .  .  .  .  .  .  .  X  .  .  .  .  .  .  .  .  .  .  .  .  .  .  .  116.2\n",
            "116.1  .  .  X  .  .  .  .  .  .  .  .  .  .  .  X  .  .  .  .  .  .  .  .  .  .  .  .  .  .  .  116.1\n",
            "116    .  .  X  O  .  .  .  .  X  .  .  .  .  .  X  .  .  .  .  .  .  .  .  .  .  .  .  .  .  .  116\n",
            "115.9  .  .  X  O  .  .  .  .  X  O  .  .  .  .  X  .  .  .  .  .  .  .  .  .  .  .  .  .  .  .  115.9\n",
            "115.8  .  .  X  O  .  .  .  .  X  O  .  .  .  .  X  .  .  .  .  .  .  .  .  .  .  .  .  .  .  .  115.8\n",
            "115.7  .  .  X  O  .  .  .  .  X  O  .  .  .  .  X  .  .  .  .  .  .  .  .  .  .  .  .  .  .  .  115.7\n",
            "115.6  .  .  X  O  .  .  .  .  X  O  .  .  .  .  X  .  .  .  .  .  .  .  .  .  .  .  .  .  .  .  115.6\n",
            "115.5  .  .  X  O  .  .  .  .  X  O  X  .  X  .  X  .  .  .  .  .  .  .  .  .  .  .  .  .  .  .  115.5\n",
            "115.4  .  .  X  O  .  .  .  .  X  O  X  O  X  O  X  .  .  .  .  .  .  .  .  .  .  .  .  .  .  .  115.4\n",
            "115.3  .  .  X  O  .  .  X  .  X  O  X  O  X  O  X  .  .  .  .  .  .  .  .  .  .  .  .  .  .  .  115.3\n",
            "115.2  .  .  X  O  .  .  X  O  X  O  X  O  X  O  X  .  .  .  .  .  .  .  .  .  .  .  .  .  .  .  115.2\n",
            "115.1  .  .  X  O  .  .  X  O  X  O  X  O  X  O  X  .  .  .  .  .  .  .  .  .  .  .  .  .  .  .  115.1\n",
            "115    .  .  X  O  .  .  X  O  X  O  X  O  X  O  .  .  .  .  .  .  .  .  .  .  .  .  .  .  .  .  115\n",
            "114.9  .  .  X  O  .  .  X  O  X  O  X  O  .  .  .  .  .  .  .  .  .  .  .  .  .  .  .  .  .  .  114.9\n",
            "114.8  .  .  X  O  .  .  X  O  X  O  X  .  .  .  .  .  .  .  .  .  .  .  .  .  .  .  .  .  .  .  114.8\n",
            "114.7  .  .  X  O  .  .  X  O  X  O  .  .  .  .  .  .  .  .  .  .  .  .  .  .  .  .  .  .  .  .  114.7\n",
            "114.6  .  .  X  O  .  .  X  O  X  .  .  .  .  .  .  .  .  .  .  .  .  .  .  .  .  .  .  .  .  .  114.6\n",
            "114.5  .  .  X  O  X  .  X  O  X  .  .  .  .  .  .  .  .  .  .  .  .  .  .  .  .  .  .  .  .  .  114.5\n",
            "114.4  .  .  X  O  X  O  X  O  .  .  .  .  .  .  .  .  .  .  .  .  .  .  .  .  .  .  .  .  .  .  114.4\n",
            "114.3  .  .  X  O  X  O  X  .  .  .  .  .  .  .  .  .  .  .  .  .  .  .  .  .  .  .  .  .  .  .  114.3\n",
            "114.2  .  .  X  O  .  O  X  .  .  .  .  .  .  .  .  .  .  .  .  .  .  .  .  .  .  .  .  .  .  .  114.2\n",
            "114.1  X  .  X  .  .  O  X  .  .  .  .  .  .  .  .  .  .  .  .  .  .  .  .  .  .  .  .  .  .  .  114.1\n",
            "114    X  O  X  .  .  O  X  .  .  .  .  .  .  .  .  .  .  .  .  .  .  .  .  .  .  .  .  .  .  .  114\n",
            "113.9  X  O  X  .  .  O  X  .  .  .  .  .  .  .  .  .  .  .  .  .  .  .  .  .  .  .  .  .  .  .  113.9\n",
            "113.8  X  O  X  .  .  O  .  .  .  .  .  .  .  .  .  .  .  .  .  .  .  .  .  .  .  .  .  .  .  .  113.8\n",
            "113.7  X  O  X  .  .  .  .  .  .  .  .  .  .  .  .  .  .  .  .  .  .  .  .  .  .  .  .  .  .  .  113.7\n",
            "113.6  X  O  .  .  .  .  .  .  .  .  .  .  .  .  .  .  .  .  .  .  .  .  .  .  .  .  .  .  .  .  113.6\n",
            "113.5  X  .  .  .  .  .  .  .  .  .  .  .  .  .  .  .  .  .  .  .  .  .  .  .  .  .  .  .  .  .  113.5\n",
            "113.4  X  .  .  .  .  .  .  .  .  .  .  .  .  .  .  .  .  .  .  .  .  .  .  .  .  .  .  .  .  .  113.4\n",
            "113.3  X  .  .  .  .  .  .  .  .  .  .  .  .  .  .  .  .  .  .  .  .  .  .  .  .  .  .  .  .  .  113.3\n",
            "113.2  X  .  .  .  .  .  .  .  .  .  .  .  .  .  .  .  .  .  .  .  .  .  .  .  .  .  .  .  .  .  113.2\n",
            "113.1  X  .  .  .  .  .  .  .  .  .  .  .  .  .  .  .  .  .  .  .  .  .  .  .  .  .  .  .  .  .  113.1\n",
            "113    X  .  .  .  .  .  .  .  .  .  .  .  .  .  .  .  .  .  .  .  .  .  .  .  .  .  .  .  .  .  113\n",
            "-----  -  -  -  -  -  -  -  -  -  -  -  -  -  -  -  -  -  -  -  -  -  -  -  -  -  -  -  -  -  -  -----\n",
            "printed 30/62 columns.\n",
            "\n",
            "\n",
            "\n"
          ]
        }
      ],
      "source": [
        "for symbol, value in symbol_map.items():\n",
        "    name = symbol_map[symbol]['name']\n",
        "    \n",
        "    # 時系列データの取得\n",
        "    df = pdr.DataReader(symbol, 'yahoo', start, end, session=session)\n",
        "    # print(df)\n",
        "    if SAVE_GDRIVE:\n",
        "        df.to_csv(os.path.join(PATH, f'{symbol}.csv'))\n",
        "\n",
        "    # 値幅の設定\n",
        "    price = df.iloc[-1]['Close']\n",
        "    boxsize = symbol_map[symbol].get('price_range')\n",
        "    if not boxsize:\n",
        "        if symbol[:-2] == '.T':\n",
        "            boxsize = get_price_range_jp(price)\n",
        "        else:\n",
        "            boxsize = get_price_range(price)\n",
        "\n",
        "    # 描画\n",
        "    ts = df.to_dict('list')\n",
        "    pnf = PointFigureChart(ts=ts, method=method, reversal=reversal, boxsize=boxsize, scaling=scaling) #, title=cl(symbol, attrs=['bold']))\n",
        "    if show_trendline:\n",
        "        pnf.get_trendlines()\n",
        "\n",
        "    print(cl(f'{name} ({symbol})', attrs=['bold']))\n",
        "    print('\\n')\n",
        "    print(pnf)\n",
        "    print('\\n\\n')"
      ]
    }
  ],
  "metadata": {
    "colab": {
      "collapsed_sections": [],
      "name": "pypnf-sample.ipynb",
      "provenance": [],
      "authorship_tag": "ABX9TyNn/VulbqQHm0wvWhf9j4Nt",
      "include_colab_link": true
    },
    "kernelspec": {
      "display_name": "Python 3",
      "name": "python3"
    },
    "language_info": {
      "name": "python"
    }
  },
  "nbformat": 4,
  "nbformat_minor": 0
}