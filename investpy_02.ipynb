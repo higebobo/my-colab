{
  "nbformat": 4,
  "nbformat_minor": 0,
  "metadata": {
    "colab": {
      "name": "investpy-02.ipynb",
      "provenance": [],
      "collapsed_sections": [],
      "authorship_tag": "ABX9TyMfQzTZfuMr8Y8TqklckZmS",
      "include_colab_link": true
    },
    "kernelspec": {
      "name": "python3",
      "display_name": "Python 3"
    },
    "language_info": {
      "name": "python"
    }
  },
  "cells": [
    {
      "cell_type": "markdown",
      "metadata": {
        "id": "view-in-github",
        "colab_type": "text"
      },
      "source": [
        "<a href=\"https://colab.research.google.com/github/higebobo/my-colab/blob/main/investpy_02.ipynb\" target=\"_parent\"><img src=\"https://colab.research.google.com/assets/colab-badge.svg\" alt=\"Open In Colab\"/></a>"
      ]
    },
    {
      "cell_type": "markdown",
      "source": [
        "# Technical information by investing.com\n",
        "\n",
        "## Get perfect order"
      ],
      "metadata": {
        "id": "HKqJdKk03RiV"
      }
    },
    {
      "cell_type": "markdown",
      "source": [
        "\n",
        "## Install section"
      ],
      "metadata": {
        "id": "XzJ_Oo2I3ZIf"
      }
    },
    {
      "cell_type": "code",
      "source": [
        "!pip install investpy"
      ],
      "metadata": {
        "colab": {
          "base_uri": "https://localhost:8080/"
        },
        "id": "gHrx_BKR3bc7",
        "outputId": "af4c04bd-0c52-4470-e2f9-1f8d26f3b6f0"
      },
      "execution_count": null,
      "outputs": [
        {
          "output_type": "stream",
          "name": "stdout",
          "text": [
            "Looking in indexes: https://pypi.org/simple, https://us-python.pkg.dev/colab-wheels/public/simple/\n",
            "Collecting investpy\n",
            "  Downloading investpy-1.0.8.tar.gz (4.4 MB)\n",
            "\u001b[K     |████████████████████████████████| 4.4 MB 5.3 MB/s \n",
            "\u001b[?25hCollecting Unidecode>=1.1.1\n",
            "  Downloading Unidecode-1.3.4-py3-none-any.whl (235 kB)\n",
            "\u001b[K     |████████████████████████████████| 235 kB 53.7 MB/s \n",
            "\u001b[?25hRequirement already satisfied: setuptools>=41.2.0 in /usr/local/lib/python3.7/dist-packages (from investpy) (57.4.0)\n",
            "Requirement already satisfied: numpy>=1.17.2 in /usr/local/lib/python3.7/dist-packages (from investpy) (1.21.6)\n",
            "Requirement already satisfied: pandas>=0.25.1 in /usr/local/lib/python3.7/dist-packages (from investpy) (1.3.5)\n",
            "Collecting lxml>=4.4.1\n",
            "  Downloading lxml-4.9.1-cp37-cp37m-manylinux_2_17_x86_64.manylinux2014_x86_64.manylinux_2_24_x86_64.whl (6.4 MB)\n",
            "\u001b[K     |████████████████████████████████| 6.4 MB 16.9 MB/s \n",
            "\u001b[?25hRequirement already satisfied: requests>=2.22.0 in /usr/local/lib/python3.7/dist-packages (from investpy) (2.23.0)\n",
            "Requirement already satisfied: pytz>=2019.3 in /usr/local/lib/python3.7/dist-packages (from investpy) (2022.1)\n",
            "Requirement already satisfied: python-dateutil>=2.7.3 in /usr/local/lib/python3.7/dist-packages (from pandas>=0.25.1->investpy) (2.8.2)\n",
            "Requirement already satisfied: six>=1.5 in /usr/local/lib/python3.7/dist-packages (from python-dateutil>=2.7.3->pandas>=0.25.1->investpy) (1.15.0)\n",
            "Requirement already satisfied: idna<3,>=2.5 in /usr/local/lib/python3.7/dist-packages (from requests>=2.22.0->investpy) (2.10)\n",
            "Requirement already satisfied: certifi>=2017.4.17 in /usr/local/lib/python3.7/dist-packages (from requests>=2.22.0->investpy) (2022.6.15)\n",
            "Requirement already satisfied: chardet<4,>=3.0.2 in /usr/local/lib/python3.7/dist-packages (from requests>=2.22.0->investpy) (3.0.4)\n",
            "Requirement already satisfied: urllib3!=1.25.0,!=1.25.1,<1.26,>=1.21.1 in /usr/local/lib/python3.7/dist-packages (from requests>=2.22.0->investpy) (1.24.3)\n",
            "Building wheels for collected packages: investpy\n",
            "  Building wheel for investpy (setup.py) ... \u001b[?25l\u001b[?25hdone\n",
            "  Created wheel for investpy: filename=investpy-1.0.8-py3-none-any.whl size=4481592 sha256=a2b0c7eb759df541bde93b69480ae67bc8bd5be25c6845836464dccc1cb1938b\n",
            "  Stored in directory: /root/.cache/pip/wheels/96/a8/a5/0d33c72eaf00b41df7b9dc1e15d2b7c7154b3f1379ed350211\n",
            "Successfully built investpy\n",
            "Installing collected packages: Unidecode, lxml, investpy\n",
            "  Attempting uninstall: lxml\n",
            "    Found existing installation: lxml 4.2.6\n",
            "    Uninstalling lxml-4.2.6:\n",
            "      Successfully uninstalled lxml-4.2.6\n",
            "Successfully installed Unidecode-1.3.4 investpy-1.0.8 lxml-4.9.1\n"
          ]
        }
      ]
    },
    {
      "cell_type": "markdown",
      "source": [
        "## Import section"
      ],
      "metadata": {
        "id": "tPQGQlNJ343J"
      }
    },
    {
      "cell_type": "code",
      "source": [
        "import datetime\n",
        "\n",
        "import investpy\n",
        "import pandas as pd\n",
        "from termcolor import colored as cl"
      ],
      "metadata": {
        "id": "Gsebnxau38Jx"
      },
      "execution_count": null,
      "outputs": []
    },
    {
      "cell_type": "markdown",
      "source": [
        "## Get symbol list"
      ],
      "metadata": {
        "id": "aLJ4CYDx4O5B"
      }
    },
    {
      "cell_type": "code",
      "source": [
        "# Nikkei 225\n",
        "url = 'https://site1.sbisec.co.jp/ETGate/?OutSide=on&_ControlID=WPLETmgR001Control&_PageID=WPLETmgR001Mdtl20&_DataStoreID=DSWPLETmgR001Control&_ActionID=DefaultAID&getFlg=on&burl=search_market&cat1=market&cat2=none&dir=info&file=market_meigara_225.html'\n",
        "table_list = pd.read_html(url)\n",
        "df_nk225_sbi = table_list[1]\n",
        "df_nk225_sbi = df_nk225_sbi.iloc[:, [0, 1]]\n",
        "df_nk225_sbi.columns = ['symbol', 'name']\n",
        "df_index = df_nk225_sbi.set_index('symbol')\n",
        "\n",
        "# DJI\n",
        "url = 'https://en.wikipedia.org/wiki/Dow_Jones_Industrial_Average'\n",
        "table_list = pd.read_html(url)\n",
        "df_dji_wp = table_list[1].iloc[:,[2,0]]\n",
        "df_dji_wp.columns = ['symbol', 'name']\n",
        "df_index = df_dji_wp.set_index('symbol')"
      ],
      "metadata": {
        "id": "_iWTK_cS4YRv"
      },
      "execution_count": null,
      "outputs": []
    },
    {
      "cell_type": "markdown",
      "source": [
        "## Define variables and set parameters"
      ],
      "metadata": {
        "id": "KN-G1rU74pcw"
      }
    },
    {
      "cell_type": "code",
      "source": [
        "country = 'United States'\n",
        "product_type = 'stock'\n",
        "interval = 'daily' # '1min', '5mins', '30mins', '1hour', '5hour', 'daily', 'weekly', 'monthly'\n",
        "symbol = 'MCD'"
      ],
      "metadata": {
        "id": "cK49m4A95tJN"
      },
      "execution_count": null,
      "outputs": []
    },
    {
      "cell_type": "markdown",
      "source": [
        "## Technical indicators example"
      ],
      "metadata": {
        "id": "jGNtG93vyrwQ"
      }
    },
    {
      "cell_type": "code",
      "source": [
        "df = investpy.technical_indicators(name=symbol, product_type=product_type,\n",
        "                                   country=country, interval=interval)\n",
        "if not df.empty:\n",
        "    print(cl(f'Technical Indicator for {symbol} in {interval}', attrs=['bold']))\n",
        "    print(df)"
      ],
      "metadata": {
        "colab": {
          "base_uri": "https://localhost:8080/"
        },
        "id": "jFVtbUp7zRVU",
        "outputId": "2e757620-6572-4c73-9604-a35ea8bfe89b"
      },
      "execution_count": null,
      "outputs": [
        {
          "output_type": "stream",
          "name": "stdout",
          "text": [
            "\u001b[1mTechnical Indicator for MCD in daily\u001b[0m\n",
            "    technical_indicator    value           signal\n",
            "0               RSI(14)  57.3370              buy\n",
            "1            STOCH(9,6)  69.8910              buy\n",
            "2          STOCHRSI(14)  15.2110         oversold\n",
            "3           MACD(12,26)   2.5200              buy\n",
            "4               ADX(14)  30.3750          neutral\n",
            "5           Williams %R -33.2940              buy\n",
            "6               CCI(14)  40.0056          neutral\n",
            "7               ATR(14)   3.5400  less_volatility\n",
            "8        Highs/Lows(14)   0.0000          neutral\n",
            "9   Ultimate Oscillator  58.0270              buy\n",
            "10                  ROC   0.4390              buy\n",
            "11  Bull/Bear Power(13)   2.0020              buy\n"
          ]
        }
      ]
    },
    {
      "cell_type": "markdown",
      "source": [
        "## Total points by signal with technical indicators"
      ],
      "metadata": {
        "id": "pi940GMU0fTa"
      }
    },
    {
      "cell_type": "code",
      "source": [
        "def get_technical_indicators(product_type, country, interval, criteria=10):\n",
        "    result = []\n",
        "\n",
        "    for symbol in df_index.index.values:\n",
        "        name = df_index.loc[symbol, 'name']\n",
        "        try:\n",
        "            df = investpy.technical_indicators(name=symbol, product_type=product_type, country=country, interval=interval)\n",
        "            result.append({'symbol': symbol, 'name': name, 'df': df})\n",
        "        except:\n",
        "            continue\n",
        "\n",
        "    return result"
      ],
      "metadata": {
        "id": "tcDpUL0A4qjX"
      },
      "execution_count": null,
      "outputs": []
    },
    {
      "cell_type": "markdown",
      "source": [
        "## Show result"
      ],
      "metadata": {
        "id": "734GfAfp1ry2"
      }
    },
    {
      "cell_type": "code",
      "source": [
        "criteria = 9\n",
        "technical_indicators_list = get_technical_indicators(product_type, country, interval, criteria=criteria)\n",
        "\n",
        "for i, x in  enumerate(technical_indicators_list):\n",
        "    symbol = x['symbol']\n",
        "    name = x['name']\n",
        "    df = x['df']\n",
        "\n",
        "    buy_count = (df['signal'] == 'buy').sum()\n",
        "    sell_count = (df['signal'] == 'sell').sum()\n",
        "    point = buy_count - sell_count\n",
        "    if point > 0:\n",
        "        signal = 'buy'\n",
        "    elif point < 0:\n",
        "        signal = 'sell'\n",
        "    else:\n",
        "        signal = ''\n",
        "    if i == 0:\n",
        "        print(cl('Signal\\t\\tTicker\\tName', attrs=['bold']))\n",
        "    if abs(point) >= criteria:\n",
        "        print(f'{signal.capitalize()} ({point} pt)\\t{symbol}\\t{name}')"
      ],
      "metadata": {
        "colab": {
          "base_uri": "https://localhost:8080/"
        },
        "id": "LFNFa1Fp1Vuz",
        "outputId": "2c011392-6cf4-4505-f6a5-6480cbb57512"
      },
      "execution_count": null,
      "outputs": [
        {
          "output_type": "stream",
          "name": "stdout",
          "text": [
            "\u001b[1mSignal\t\tTicker\tName\u001b[0m\n",
            "Buy (9 pt)\tAAPL\tApple\n",
            "Buy (9 pt)\tBA\tBoeing\n",
            "Sell (-9 pt)\tKO\tCoca-Cola\n",
            "Buy (9 pt)\tDIS\tDisney\n",
            "Buy (9 pt)\tHD\tHome Depot\n",
            "Sell (-10 pt)\tJNJ\tJohnson & Johnson\n",
            "Buy (9 pt)\tCRM\tSalesforce\n",
            "Sell (-10 pt)\tTRV\tTravelers\n",
            "Buy (10 pt)\tV\tVisa\n",
            "Buy (9 pt)\tWMT\tWalmart\n"
          ]
        }
      ]
    },
    {
      "cell_type": "markdown",
      "source": [
        "## Filtering by specific indicators"
      ],
      "metadata": {
        "id": "D2fe2DkN3mZ2"
      }
    },
    {
      "cell_type": "code",
      "source": [
        "result = []\n",
        "for x in technical_indicators_list:\n",
        "    symbol = x['symbol']\n",
        "    name = x['name']\n",
        "    df = x['df']\n",
        "\n",
        "    rsi = df.loc[0].value # RSI(14)\n",
        "    adx = df.loc[4].value # ADX(14)\n",
        "\n",
        "    if rsi >= 50 and rsi <=70 and adx >= 25:\n",
        "        result.append((symbol, name, rsi, adx))\n",
        "\n",
        "for i, x in enumerate(result):\n",
        "    if i==0:\n",
        "        print(cl(f'Symbol\\tName{\"\":<16}\\tRSI\\tADX', attrs=['bold']))\n",
        "    symbol, name, rsi, adx = x\n",
        "    print(f'{symbol}\\t{name:<16}\\t{rsi:.1f}\\t{adx:.1f}')\n",
        "  "
      ],
      "metadata": {
        "colab": {
          "base_uri": "https://localhost:8080/"
        },
        "id": "eTMFKMMh3rbS",
        "outputId": "5354633e-45f5-41c8-adbd-7fd93197f68d"
      },
      "execution_count": null,
      "outputs": [
        {
          "output_type": "stream",
          "name": "stdout",
          "text": [
            "\u001b[1mSymbol\tName                \tRSI\tADX\u001b[0m\n",
            "MMM\t3M              \t53.7\t34.6\n",
            "AXP\tAmerican Express\t60.3\t30.8\n",
            "AAPL\tApple           \t62.9\t41.1\n",
            "BA\tBoeing          \t65.5\t26.2\n",
            "DIS\tDisney          \t59.2\t28.5\n",
            "HD\tHome Depot      \t69.9\t58.4\n",
            "HON\tHoneywell       \t56.4\t34.4\n",
            "MCD\tMcDonald's      \t57.3\t30.4\n",
            "V\tVisa            \t61.4\t37.0\n",
            "WMT\tWalmart         \t67.9\t50.1\n"
          ]
        }
      ]
    }
  ]
}