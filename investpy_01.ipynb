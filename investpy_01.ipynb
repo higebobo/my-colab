{
  "nbformat": 4,
  "nbformat_minor": 0,
  "metadata": {
    "colab": {
      "name": "investpy-01.ipynb",
      "provenance": [],
      "collapsed_sections": [],
      "authorship_tag": "ABX9TyMMkAMFWcaf57WdEWK4lgYP",
      "include_colab_link": true
    },
    "kernelspec": {
      "name": "python3",
      "display_name": "Python 3"
    },
    "language_info": {
      "name": "python"
    }
  },
  "cells": [
    {
      "cell_type": "markdown",
      "metadata": {
        "id": "view-in-github",
        "colab_type": "text"
      },
      "source": [
        "<a href=\"https://colab.research.google.com/github/higebobo/my-colab/blob/main/investpy_01.ipynb\" target=\"_parent\"><img src=\"https://colab.research.google.com/assets/colab-badge.svg\" alt=\"Open In Colab\"/></a>"
      ]
    },
    {
      "cell_type": "markdown",
      "source": [
        "# Technical information by investing.com\n",
        "\n",
        "## Get perfect order"
      ],
      "metadata": {
        "id": "HKqJdKk03RiV"
      }
    },
    {
      "cell_type": "markdown",
      "source": [
        "\n",
        "## Install section"
      ],
      "metadata": {
        "id": "XzJ_Oo2I3ZIf"
      }
    },
    {
      "cell_type": "code",
      "source": [
        "!pip install investpy"
      ],
      "metadata": {
        "colab": {
          "base_uri": "https://localhost:8080/"
        },
        "id": "gHrx_BKR3bc7",
        "outputId": "10c73a90-790c-4444-f43c-943c236e802e"
      },
      "execution_count": 19,
      "outputs": [
        {
          "output_type": "stream",
          "name": "stdout",
          "text": [
            "Looking in indexes: https://pypi.org/simple, https://us-python.pkg.dev/colab-wheels/public/simple/\n",
            "Requirement already satisfied: investpy in /usr/local/lib/python3.7/dist-packages (1.0.8)\n",
            "Requirement already satisfied: lxml>=4.4.1 in /usr/local/lib/python3.7/dist-packages (from investpy) (4.9.1)\n",
            "Requirement already satisfied: numpy>=1.17.2 in /usr/local/lib/python3.7/dist-packages (from investpy) (1.21.6)\n",
            "Requirement already satisfied: setuptools>=41.2.0 in /usr/local/lib/python3.7/dist-packages (from investpy) (57.4.0)\n",
            "Requirement already satisfied: Unidecode>=1.1.1 in /usr/local/lib/python3.7/dist-packages (from investpy) (1.3.4)\n",
            "Requirement already satisfied: requests>=2.22.0 in /usr/local/lib/python3.7/dist-packages (from investpy) (2.23.0)\n",
            "Requirement already satisfied: pytz>=2019.3 in /usr/local/lib/python3.7/dist-packages (from investpy) (2022.1)\n",
            "Requirement already satisfied: pandas>=0.25.1 in /usr/local/lib/python3.7/dist-packages (from investpy) (1.3.5)\n",
            "Requirement already satisfied: python-dateutil>=2.7.3 in /usr/local/lib/python3.7/dist-packages (from pandas>=0.25.1->investpy) (2.8.2)\n",
            "Requirement already satisfied: six>=1.5 in /usr/local/lib/python3.7/dist-packages (from python-dateutil>=2.7.3->pandas>=0.25.1->investpy) (1.15.0)\n",
            "Requirement already satisfied: certifi>=2017.4.17 in /usr/local/lib/python3.7/dist-packages (from requests>=2.22.0->investpy) (2022.6.15)\n",
            "Requirement already satisfied: idna<3,>=2.5 in /usr/local/lib/python3.7/dist-packages (from requests>=2.22.0->investpy) (2.10)\n",
            "Requirement already satisfied: chardet<4,>=3.0.2 in /usr/local/lib/python3.7/dist-packages (from requests>=2.22.0->investpy) (3.0.4)\n",
            "Requirement already satisfied: urllib3!=1.25.0,!=1.25.1,<1.26,>=1.21.1 in /usr/local/lib/python3.7/dist-packages (from requests>=2.22.0->investpy) (1.24.3)\n"
          ]
        }
      ]
    },
    {
      "cell_type": "markdown",
      "source": [
        "## Import section"
      ],
      "metadata": {
        "id": "tPQGQlNJ343J"
      }
    },
    {
      "cell_type": "code",
      "source": [
        "import datetime\n",
        "\n",
        "import investpy\n",
        "import pandas as pd\n",
        "from termcolor import colored as cl"
      ],
      "metadata": {
        "id": "Gsebnxau38Jx"
      },
      "execution_count": 20,
      "outputs": []
    },
    {
      "cell_type": "markdown",
      "source": [
        "## Get symbol list"
      ],
      "metadata": {
        "id": "aLJ4CYDx4O5B"
      }
    },
    {
      "cell_type": "code",
      "source": [
        "# Dow Jones\n",
        "url = 'https://en.wikipedia.org/wiki/Dow_Jones_Industrial_Average'\n",
        "table_list = pd.read_html(url)\n",
        "dji = table_list[1].iloc[:,[2,0]]\n",
        "dji.columns = ['symbol', 'name']\n",
        "df_index = dji.set_index('symbol')"
      ],
      "metadata": {
        "id": "_iWTK_cS4YRv"
      },
      "execution_count": 21,
      "outputs": []
    },
    {
      "cell_type": "markdown",
      "source": [
        "## Define variables and set parameters"
      ],
      "metadata": {
        "id": "KN-G1rU74pcw"
      }
    },
    {
      "cell_type": "code",
      "source": [
        "signal = {\n",
        "    'buy': [],\n",
        "    'sell': []\n",
        "}\n",
        "\n",
        "country = 'United States'\n",
        "product_type = 'stock'\n",
        "ma_key = 'ema_value' # or sma_value\n",
        "period_num = 6 # set value from 3 to 6 (5,10,20,50,100,200)"
      ],
      "metadata": {
        "id": "cK49m4A95tJN"
      },
      "execution_count": 22,
      "outputs": []
    },
    {
      "cell_type": "markdown",
      "source": [
        "## Get moving averages"
      ],
      "metadata": {
        "id": "pi940GMU0fTa"
      }
    },
    {
      "cell_type": "code",
      "source": [
        "for symbol in df_index.index.values:\n",
        "  name = df_index.loc[symbol, 'name']\n",
        "  df_ma = investpy.moving_averages(name=symbol, product_type=product_type,\n",
        "                                   country=country, interval='daily')\n",
        "  ma = df_ma[ma_key]\n",
        "  raw_order = ma[:period_num].to_list()\n",
        "\n",
        "  if raw_order == sorted(raw_order, reverse=True):\n",
        "      key = 'buy'\n",
        "  elif raw_order == sorted(raw_order):\n",
        "      key = 'sell'\n",
        "  else:\n",
        "      key = None\n",
        "\n",
        "  if key:\n",
        "      signal[key].append((symbol, name, df_ma[['period', 'sma_value', 'ema_value']]))"
      ],
      "metadata": {
        "id": "tcDpUL0A4qjX"
      },
      "execution_count": 23,
      "outputs": []
    },
    {
      "cell_type": "markdown",
      "source": [
        "## Show result"
      ],
      "metadata": {
        "id": "d-mvAQ_I0xlB"
      }
    },
    {
      "cell_type": "code",
      "source": [
        "for key in signal:\n",
        "    if signal[key]:\n",
        "        print(cl(f'{key.capitalize()} signal', attrs=['bold', 'blink']))\n",
        "        print('\\n')\n",
        "        for symbol, name, df in signal[key]:\n",
        "            print(cl(f'{symbol} - {name}', attrs=['bold']))\n",
        "            print(df.loc[:period_num-1, ['period', ma_key]])\n",
        "            print('\\n')\n",
        "        print('\\n\\n')"
      ],
      "metadata": {
        "colab": {
          "base_uri": "https://localhost:8080/"
        },
        "id": "JFH-8qTS7jhM",
        "outputId": "6f34bfb1-a858-410f-a4db-89ec6f99dfcf"
      },
      "execution_count": 24,
      "outputs": [
        {
          "output_type": "stream",
          "name": "stdout",
          "text": [
            "\u001b[5m\u001b[1mBuy signal\u001b[0m\n",
            "\n",
            "\n",
            "\u001b[1mAMGN - Amgen\u001b[0m\n",
            "  period  ema_value\n",
            "0      5     247.01\n",
            "1     10     245.83\n",
            "2     20     245.43\n",
            "3     50     243.59\n",
            "4    100     239.65\n",
            "5    200     236.32\n",
            "\n",
            "\n",
            "\u001b[1mKO - Coca-Cola\u001b[0m\n",
            "  period  ema_value\n",
            "0      5      62.80\n",
            "1     10      62.65\n",
            "2     20      62.62\n",
            "3     50      62.58\n",
            "4    100      62.00\n",
            "5    200      60.37\n",
            "\n",
            "\n",
            "\u001b[1mMRK - Merck\u001b[0m\n",
            "  period  ema_value\n",
            "0      5      93.46\n",
            "1     10      92.69\n",
            "2     20      92.10\n",
            "3     50      89.70\n",
            "4    100      87.28\n",
            "5    200      83.72\n",
            "\n",
            "\n",
            "\u001b[1mUNH - UnitedHealth\u001b[0m\n",
            "  period  ema_value\n",
            "0      5     510.56\n",
            "1     10     507.86\n",
            "2     20     503.87\n",
            "3     50     498.57\n",
            "4    100     493.96\n",
            "5    200     475.56\n",
            "\n",
            "\n",
            "\n",
            "\n",
            "\n",
            "\u001b[5m\u001b[1mSell signal\u001b[0m\n",
            "\n",
            "\n",
            "\u001b[1mMMM - 3M\u001b[0m\n",
            "  period  ema_value\n",
            "0      5     129.09\n",
            "1     10     129.55\n",
            "2     20     132.14\n",
            "3     50     137.68\n",
            "4    100     145.57\n",
            "5    200     156.35\n",
            "\n",
            "\n",
            "\u001b[1mAXP - American Express\u001b[0m\n",
            "  period  ema_value\n",
            "0      5     139.79\n",
            "1     10     140.43\n",
            "2     20     143.78\n",
            "3     50     153.48\n",
            "4    100     161.64\n",
            "5    200     164.36\n",
            "\n",
            "\n",
            "\u001b[1mCAT - Caterpillar\u001b[0m\n",
            "  period  ema_value\n",
            "0      5     175.20\n",
            "1     10     178.04\n",
            "2     20     184.90\n",
            "3     50     196.64\n",
            "4    100     202.79\n",
            "5    200     206.30\n",
            "\n",
            "\n",
            "\u001b[1mCSCO - Cisco\u001b[0m\n",
            "  period  ema_value\n",
            "0      5      42.87\n",
            "1     10      42.98\n",
            "2     20      43.30\n",
            "3     50      45.51\n",
            "4    100      48.47\n",
            "5    200      50.86\n",
            "\n",
            "\n",
            "\u001b[1mDIS - Disney\u001b[0m\n",
            "  period  ema_value\n",
            "0      5      94.14\n",
            "1     10      94.78\n",
            "2     20      96.57\n",
            "3     50     104.04\n",
            "4    100     115.77\n",
            "5    200     132.30\n",
            "\n",
            "\n",
            "\u001b[1mDOW - Dow\u001b[0m\n",
            "  period  ema_value\n",
            "0      5      50.57\n",
            "1     10      51.29\n",
            "2     20      53.88\n",
            "3     50      58.27\n",
            "4    100      60.20\n",
            "5    200      60.75\n",
            "\n",
            "\n",
            "\u001b[1mGS - Goldman Sachs\u001b[0m\n",
            "  period  ema_value\n",
            "0      5     293.17\n",
            "1     10     293.74\n",
            "2     20     297.03\n",
            "3     50     304.26\n",
            "4    100     319.85\n",
            "5    200     333.80\n",
            "\n",
            "\n",
            "\u001b[1mHON - Honeywell\u001b[0m\n",
            "  period  ema_value\n",
            "0      5     172.54\n",
            "1     10     173.76\n",
            "2     20     177.11\n",
            "3     50     183.11\n",
            "4    100     189.54\n",
            "5    200     196.70\n",
            "\n",
            "\n",
            "\u001b[1mINTC - Intel\u001b[0m\n",
            "  period  ema_value\n",
            "0      5      37.26\n",
            "1     10      37.38\n",
            "2     20      38.14\n",
            "3     50      40.47\n",
            "4    100      43.29\n",
            "5    200      46.81\n",
            "\n",
            "\n",
            "\u001b[1mJPM - JPMorgan Chase\u001b[0m\n",
            "  period  ema_value\n",
            "0      5     112.80\n",
            "1     10     113.36\n",
            "2     20     115.46\n",
            "3     50     120.25\n",
            "4    100     128.17\n",
            "5    200     136.61\n",
            "\n",
            "\n",
            "\u001b[1mMSFT - Microsoft\u001b[0m\n",
            "  period  ema_value\n",
            "0      5     258.15\n",
            "1     10     259.50\n",
            "2     20     260.26\n",
            "3     50     265.30\n",
            "4    100     276.29\n",
            "5    200     281.17\n",
            "\n",
            "\n",
            "\u001b[1mNKE - Nike\u001b[0m\n",
            "  period  ema_value\n",
            "0      5     104.87\n",
            "1     10     105.51\n",
            "2     20     107.01\n",
            "3     50     112.40\n",
            "4    100     121.78\n",
            "5    200     131.22\n",
            "\n",
            "\n",
            "\u001b[1mCRM - Salesforce\u001b[0m\n",
            "  period  ema_value\n",
            "0      5     168.40\n",
            "1     10     170.07\n",
            "2     20     170.75\n",
            "3     50     174.96\n",
            "4    100     189.42\n",
            "5    200     205.39\n",
            "\n",
            "\n",
            "\u001b[1mVZ - Verizon\u001b[0m\n",
            "  period  ema_value\n",
            "0      5      50.70\n",
            "1     10      50.72\n",
            "2     20      50.73\n",
            "3     50      50.73\n",
            "4    100      51.03\n",
            "5    200      52.13\n",
            "\n",
            "\n",
            "\u001b[1mWBA - Walgreens Boots Alliance\u001b[0m\n",
            "  period  ema_value\n",
            "0      5      37.64\n",
            "1     10      38.23\n",
            "2     20      39.28\n",
            "3     50      41.21\n",
            "4    100      43.22\n",
            "5    200      45.46\n",
            "\n",
            "\n",
            "\n",
            "\n",
            "\n"
          ]
        }
      ]
    }
  ]
}