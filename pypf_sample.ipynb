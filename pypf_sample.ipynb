{
  "nbformat": 4,
  "nbformat_minor": 0,
  "metadata": {
    "colab": {
      "name": "pypf-sample.ipynb",
      "provenance": [],
      "collapsed_sections": [],
      "toc_visible": true,
      "authorship_tag": "ABX9TyN+LUXTkXwsMV62iDJ3BlqS",
      "include_colab_link": true
    },
    "kernelspec": {
      "name": "python3",
      "display_name": "Python 3"
    },
    "language_info": {
      "name": "python"
    }
  },
  "cells": [
    {
      "cell_type": "markdown",
      "metadata": {
        "id": "view-in-github",
        "colab_type": "text"
      },
      "source": [
        "<a href=\"https://colab.research.google.com/github/higebobo/my-colab/blob/main/pypf_sample.ipynb\" target=\"_parent\"><img src=\"https://colab.research.google.com/assets/colab-badge.svg\" alt=\"Open In Colab\"/></a>"
      ]
    },
    {
      "cell_type": "markdown",
      "source": [
        "## pypfによるポイントアンドフィギュア算出\n",
        "\n",
        "[pviglucci/pypf](https://github.com/pviglucci/pypf)"
      ],
      "metadata": {
        "id": "hXgKOO_CSDto"
      }
    },
    {
      "cell_type": "markdown",
      "source": [
        "## インストールセクション"
      ],
      "metadata": {
        "id": "TzyiQHzmSmd3"
      }
    },
    {
      "cell_type": "code",
      "source": [
        "!pip install pypf yfinance"
      ],
      "metadata": {
        "id": "C_991epnSpfg",
        "colab": {
          "base_uri": "https://localhost:8080/"
        },
        "outputId": "3601d93f-a618-4aaa-c7ca-9381d7f4e748"
      },
      "execution_count": 1,
      "outputs": [
        {
          "output_type": "stream",
          "name": "stdout",
          "text": [
            "Looking in indexes: https://pypi.org/simple, https://us-python.pkg.dev/colab-wheels/public/simple/\n",
            "Requirement already satisfied: pypf in /usr/local/lib/python3.7/dist-packages (0.9.6)\n",
            "Requirement already satisfied: yfinance in /usr/local/lib/python3.7/dist-packages (0.1.70)\n",
            "Requirement already satisfied: requests in /usr/local/lib/python3.7/dist-packages (from pypf) (2.27.1)\n",
            "Requirement already satisfied: pandas>=0.24.0 in /usr/local/lib/python3.7/dist-packages (from yfinance) (1.3.5)\n",
            "Requirement already satisfied: lxml>=4.5.1 in /usr/local/lib/python3.7/dist-packages (from yfinance) (4.8.0)\n",
            "Requirement already satisfied: multitasking>=0.0.7 in /usr/local/lib/python3.7/dist-packages (from yfinance) (0.0.10)\n",
            "Requirement already satisfied: numpy>=1.15 in /usr/local/lib/python3.7/dist-packages (from yfinance) (1.21.6)\n",
            "Requirement already satisfied: python-dateutil>=2.7.3 in /usr/local/lib/python3.7/dist-packages (from pandas>=0.24.0->yfinance) (2.8.2)\n",
            "Requirement already satisfied: pytz>=2017.3 in /usr/local/lib/python3.7/dist-packages (from pandas>=0.24.0->yfinance) (2022.1)\n",
            "Requirement already satisfied: six>=1.5 in /usr/local/lib/python3.7/dist-packages (from python-dateutil>=2.7.3->pandas>=0.24.0->yfinance) (1.15.0)\n",
            "Requirement already satisfied: urllib3<1.27,>=1.21.1 in /usr/local/lib/python3.7/dist-packages (from requests->pypf) (1.24.3)\n",
            "Requirement already satisfied: charset-normalizer~=2.0.0 in /usr/local/lib/python3.7/dist-packages (from requests->pypf) (2.0.12)\n",
            "Requirement already satisfied: idna<4,>=2.5 in /usr/local/lib/python3.7/dist-packages (from requests->pypf) (2.10)\n",
            "Requirement already satisfied: certifi>=2017.4.17 in /usr/local/lib/python3.7/dist-packages (from requests->pypf) (2022.5.18.1)\n"
          ]
        }
      ]
    },
    {
      "cell_type": "markdown",
      "source": [
        "## インポートセクション"
      ],
      "metadata": {
        "id": "GLvAbjAoSe2H"
      }
    },
    {
      "cell_type": "code",
      "source": [
        "from collections import OrderedDict\n",
        "import datetime\n",
        "from decimal import Decimal\n",
        "\n",
        "from pypf.chart import PFChart\n",
        "from pypf.instrument import Instrument\n",
        "import yfinance as yf\n"
      ],
      "metadata": {
        "id": "tZ0W1AUaSiNU"
      },
      "execution_count": 2,
      "outputs": []
    },
    {
      "cell_type": "markdown",
      "source": [
        "## 定数定義"
      ],
      "metadata": {
        "id": "gssjFvvXSREh"
      }
    },
    {
      "cell_type": "markdown",
      "source": [
        "### 対象のシンボル(銘柄・指数・通貨ペア)"
      ],
      "metadata": {
        "id": "-WtQFq7WeOnq"
      }
    },
    {
      "cell_type": "code",
      "source": [
        "symbol_map = {\n",
        "    # 'AMZN': 'Amazon.com Inc.',\n",
        "    'GOOGL': 'Alphabet Inc.',\n",
        "    # 'TSLA': 'Tesla Inc.',\n",
        "    # 'MSFT': 'Microsoft Corporation',\n",
        "    # 'AAPL': 'Apple Inc.',\n",
        "    # 'DIS': 'Walt Disney Company',\n",
        "    # '7203.T': 'トヨタ自動車',\n",
        "    # '9101.T': '日本郵船',\n",
        "    # '5401.T': '日本製鉄',\n",
        "    # '2914.T': 'JT'\n",
        "}"
      ],
      "metadata": {
        "id": "qqUKO3X9SDYo"
      },
      "execution_count": 3,
      "outputs": []
    },
    {
      "cell_type": "markdown",
      "source": [
        "### 対象期間"
      ],
      "metadata": {
        "id": "5ww5tu8PeZmZ"
      }
    },
    {
      "cell_type": "code",
      "source": [
        "# 本日まで\n",
        "end = datetime.date.today()\n",
        "start = end - datetime.timedelta(weeks=26*2)"
      ],
      "metadata": {
        "id": "wQImBsJ6eLRK"
      },
      "execution_count": 4,
      "outputs": []
    },
    {
      "cell_type": "markdown",
      "source": [
        "### ポイントアンドフィギュアパラーメータ"
      ],
      "metadata": {
        "id": "fdP7Q6E0ejja"
      }
    },
    {
      "cell_type": "code",
      "source": [
        "# ボックスサイズ\n",
        "box_size = 0.01\n",
        "\n",
        "# データ取得期間(単位年)\n",
        "period = 1\n",
        "\n",
        "# メソッド c:終値 hl:高値安値\n",
        "method = 'c'\n",
        "\n",
        "# 枠反転\n",
        "reversal = 3\n"
      ],
      "metadata": {
        "id": "Dg_4PgDFeI_l"
      },
      "execution_count": 5,
      "outputs": []
    },
    {
      "cell_type": "markdown",
      "source": [
        "## クラス定義"
      ],
      "metadata": {
        "id": "uQJiOA6pLaAK"
      }
    },
    {
      "cell_type": "code",
      "source": [
        "class NewYahooSecurity(Instrument):\n",
        "    def __init__(self, symbol, force_cache=False):\n",
        "        super().__init__(symbol=symbol, period=10)\n",
        "\n",
        "    def populate_data(self):\n",
        "        self.daily_historical_data = OrderedDict()\n",
        "\n",
        "        end = datetime.date.today()\n",
        "        start = end - datetime.timedelta(weeks=self.period*52)\n",
        "        df = yf.download(symbol, start=start.strftime('%Y-%m-%d'), end=end.strftime('%Y-%m-%d'))\n",
        "        q = Decimal('0.01')\n",
        "\n",
        "        for index, row in df.iterrows():\n",
        "            row['Date'] = index.strftime('%Y-%m-%d')\n",
        "            row['Open'] = Decimal(row['Open']).quantize(q)\n",
        "            row['High'] = Decimal(row['High']).quantize(q)\n",
        "            row['Low'] = Decimal(row['Low']).quantize(q)\n",
        "            row['Close'] = Decimal(row['Close']).quantize(q)\n",
        "            row['Volume'] = int(row['Volume'])\n",
        "            self.daily_historical_data[row['Date']] = row\n",
        "\n",
        "        self.historical_data = self.daily_historical_data"
      ],
      "metadata": {
        "id": "hGfEXXb1LnCc"
      },
      "execution_count": 6,
      "outputs": []
    },
    {
      "cell_type": "markdown",
      "source": [
        "## 算出および描画"
      ],
      "metadata": {
        "id": "skBwoqkjTV46"
      }
    },
    {
      "cell_type": "code",
      "source": [
        "for symbol in symbol_map:\n",
        "    instrument = NewYahooSecurity(symbol, period)\n",
        "\n",
        "    chart = PFChart(instrument, box_size=box_size, method=method, reversal=reversal)\n",
        "    chart.create_chart()\n",
        "\n",
        "    print(chart.chart)"
      ],
      "metadata": {
        "colab": {
          "base_uri": "https://localhost:8080/"
        },
        "id": "zZQU_nxCT8Zh",
        "outputId": "ebdab896-93d5-44c5-c79d-9bef2782eb82"
      },
      "execution_count": 7,
      "outputs": [
        {
          "output_type": "stream",
          "name": "stdout",
          "text": [
            "\r[*********************100%***********************]  1 of 1 completed\n",
            "\n",
            "  GOOGL  (2022-05-23 o: 2191.75 h: 2229.76 l: 2229.76 c: 2229.76)\n",
            "  1.00% box, 3 box reversal, c method\n",
            "  signal: sell status: bear confirmed\n",
            "\n",
            "3016.49|                                                    |3016.49\n",
            "2986.62|              x                                     |2986.62\n",
            "2957.05|          x   u d x   x   x                         |2957.05\n",
            "2927.78|          x B u d u d u 1 x d                       |2927.78\n",
            "2898.79|  9       u d u d u d u d x d                       |2898.79\n",
            "2870.09|  x d     u d   d C d u d x d                       |2870.09\n",
            "2841.67|  x d x   u     o   d   d x o         x             |2841.67\n",
            "2813.54|  x d x d u             d x o         x 4           |2813.54\n",
            "2785.68|  x d x d u             d x o         x d           |2785.68\n",
            "2758.10|  x o u d               d x o         x d           |2758.10\n",
            "2730.79|  8 o u                 o 2 o         x o           |2730.79\n",
            "2703.75|  x o A                 o x o         x o           |2703.75\n",
            "2676.98|  x o                   o x o x       x o           |2676.98\n",
            "2650.48|  x                     o u o u 3 u   u o           |2650.48\n",
            "2624.23|  x                     o u o u d u d u o           |2624.23\n",
            "2598.25|  x                     o u o u d u d u o           |2598.25\n",
            "2572.53|  x                     o u o   d u d u o           |2572.53\n",
            "2547.06|  x                     o       d   d u o           |2547.06\n",
            "2521.84|  x                                 d   o           |2521.84\n",
            "2496.87|  x                                     o           |2496.87\n",
            "2472.15|  7                                     o           |2472.15\n",
            "2447.67|  x                                     o           |2447.67\n",
            "2423.44|  x                                     o u         |2423.44\n",
            "2399.44|  6                                     o u d       |2399.44\n",
            "2375.69|  x                                     o u d       |2375.69\n",
            "2352.16|  x                                     o u d       |2352.16\n",
            "2328.88|                                        o u o u     |2328.88\n",
            "2305.82|                                        o 5 o u d   |2305.82\n",
            "2282.99|                                        o   o u d   |2282.99\n",
            "2260.38|                                            o   d   |2260.38\n",
            "2238.00|                                                d   |<< 2229.76\n",
            "2215.84|                                                o   |2215.84\n",
            "2193.91|                                                o   |2193.91\n",
            "2172.18|                                                    |2172.18\n",
            "\n"
          ]
        }
      ]
    }
  ]
}